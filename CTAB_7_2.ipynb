{
  "nbformat": 4,
  "nbformat_minor": 0,
  "metadata": {
    "colab": {
      "provenance": [],
      "authorship_tag": "ABX9TyOoejw3ItlMN+wr+kcv2/mQ",
      "include_colab_link": true
    },
    "kernelspec": {
      "name": "python3",
      "display_name": "Python 3"
    },
    "language_info": {
      "name": "python"
    }
  },
  "cells": [
    {
      "cell_type": "markdown",
      "metadata": {
        "id": "view-in-github",
        "colab_type": "text"
      },
      "source": [
        "<a href=\"https://colab.research.google.com/github/SeoHyunPark13/23python3rd/blob/main/CTAB_7_2.ipynb\" target=\"_parent\"><img src=\"https://colab.research.google.com/assets/colab-badge.svg\" alt=\"Open In Colab\"/></a>"
      ]
    },
    {
      "cell_type": "code",
      "execution_count": null,
      "metadata": {
        "colab": {
          "base_uri": "https://localhost:8080/"
        },
        "id": "z2TAMouSkxMN",
        "outputId": "d601b489-8a94-4966-e9ac-5fe797f5ce76"
      },
      "outputs": [
        {
          "output_type": "stream",
          "name": "stdout",
          "text": [
            "정수 2개를 입력하시오.\n",
            "x의 값을 입력하시오.30\n",
            "y의 값을 입력하시오.8\n",
            "x + y의 합계는 38 입니다.\n"
          ]
        }
      ],
      "source": [
        "print(\"정수 2개를 입력하시오.\")   # 사용자에게 정수 2개를 입력하라는 안내 메시지를 출력한다.\n",
        "x = int(input(\"x의 값을 입력하시오.\"))    # 사용자로부터 x의 값을 입력받아 정수로 변환하여 변수 x에 저장한다.\n",
        "y = int(input(\"y의 값을 입력하시오.\"))    # 사용자로부터 y의 값을 입력받아 정수로 변환하여 변수 y에 저장한다.\n",
        "sum = x + y   # 변수 x와 y를 더한 값을 변수 sum에 저장한다.\n",
        "print(\"x + y의 합계는\", sum, \"입니다.\")   # \"x + y의 합계는\" 다음에 변수 sum의 값을 출력하여 합계를 나타낸다."
      ]
    },
    {
      "cell_type": "markdown",
      "source": [
        "주어진 코드는 사용자로부터 두 개의 정수를 입력받고, 입력된 두 정수의 합을 출력하는 코드입니다.\n",
        "\n",
        "1. print(\"정수 2개를 입력하시오.\")를 사용하여 사용자에게 정수 2개를 입력하라는 안내 메시지를 출력합니다.\n",
        "2. x = int(input(\"x의 값을 입력하시오.\"))를 사용하여 사용자로부터 x의 값을 입력받고, 입력된 값을 정수로 변환하여 변수 x에 저장합니다.\n",
        "3. y = int(input(\"y의 값을 입력하시오.\"))를 사용하여 사용자로부터 y의 값을 입력받고, 입력된 값을 정수로 변환하여 변수 y에 저장합니다.\n",
        "4. sum = x + y를 사용하여 변수 x와 y를 더한 값을 변수 sum에 저장합니다.\n",
        "5. print(\"x + y의 합계는\", sum, \"입니다.\")를 사용하여 \"x + y의 합계는\" 다음에 변수 sum의 값을 출력하여 합계를 나타냅니다."
      ],
      "metadata": {
        "id": "n4EmREM9aEha"
      }
    },
    {
      "cell_type": "code",
      "source": [
        "print(\"상품의 가격을 입력하시오.\")    # 사용자에게 상품의 가격을 입력하라는 안내 메시지를 출력한다.\n",
        "price = int(input(\"가격을 입력하시오.\"))    # 사용자로부터 가격을 입력받아 정수로 변환하여 변수 price에 저장한다.\n",
        "vat = price * 0.1   # 가격에 대한 부가가치세(VAT)를 계산하여 변수 vat에 저장한다. (가격의 10%를 계산)\n",
        "print(\"해당 상품의 가격은\", vat, \"입니다\")    # \"해당 상품의 가격은\" 다음에 변수 vat의 값을 출력하여 부가가치세를 나타낸다."
      ],
      "metadata": {
        "colab": {
          "base_uri": "https://localhost:8080/"
        },
        "id": "AXwhu2hOlZPr",
        "outputId": "52e8e783-ed78-4465-9690-71526b2ba60b"
      },
      "execution_count": null,
      "outputs": [
        {
          "output_type": "stream",
          "name": "stdout",
          "text": [
            "상품의 가격을 입력하시오.\n",
            "가격을 입력하시오.100000\n",
            "해당 상품의 가격은 10000.0 입니다\n"
          ]
        }
      ]
    },
    {
      "cell_type": "markdown",
      "source": [
        "주어진 코드는 사용자로부터 상품의 가격을 입력받고, 입력된 가격에 대한 부가가치세(VAT)를 계산하여 출력하는 코드입니다.\n",
        "\n",
        "1. print(\"상품의 가격을 입력하시오.\")를 사용하여 사용자에게 상품의 가격을 입력하라는 안내 메시지를 출력합니다.\n",
        "2. price = int(input(\"가격을 입력하시오.\"))를 사용하여 사용자로부터 가격을 입력받고, 입력된 값을 정수로 변환하여 변수 price에 저장합니다.\n",
        "3. vat = price * 0.1을 사용하여 가격에 대한 부가가치세(VAT)를 계산하여 변수 vat에 저장합니다. 여기서 가격의 10%를 계산하여 부가가치세를 구합니다.\n",
        "4. print(\"해당 상품의 가격은\", vat, \"입니다\")를 사용하여 \"해당 상품의 가격은\" 다음에 변수 vat의 값을 출력하여 부가가치세를 나타냅니다."
      ],
      "metadata": {
        "id": "qfu_m9aCaTAF"
      }
    }
  ]
}