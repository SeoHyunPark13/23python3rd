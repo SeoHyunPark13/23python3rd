{
  "nbformat": 4,
  "nbformat_minor": 0,
  "metadata": {
    "colab": {
      "provenance": [],
      "authorship_tag": "ABX9TyP5XF+E2Eb47eRfeyfJD53B",
      "include_colab_link": true
    },
    "kernelspec": {
      "name": "python3",
      "display_name": "Python 3"
    },
    "language_info": {
      "name": "python"
    }
  },
  "cells": [
    {
      "cell_type": "markdown",
      "metadata": {
        "id": "view-in-github",
        "colab_type": "text"
      },
      "source": [
        "<a href=\"https://colab.research.google.com/github/SeoHyunPark13/23python3rd/blob/main/CTAB_7_2.ipynb\" target=\"_parent\"><img src=\"https://colab.research.google.com/assets/colab-badge.svg\" alt=\"Open In Colab\"/></a>"
      ]
    },
    {
      "cell_type": "code",
      "execution_count": 1,
      "metadata": {
        "colab": {
          "base_uri": "https://localhost:8080/"
        },
        "id": "z2TAMouSkxMN",
        "outputId": "d601b489-8a94-4966-e9ac-5fe797f5ce76"
      },
      "outputs": [
        {
          "output_type": "stream",
          "name": "stdout",
          "text": [
            "정수 2개를 입력하시오.\n",
            "x의 값을 입력하시오.30\n",
            "y의 값을 입력하시오.8\n",
            "x + y의 합계는 38 입니다.\n"
          ]
        }
      ],
      "source": [
        "print(\"정수 2개를 입력하시오.\")   # 사용자에게 정수 2개를 입력하라는 안내 메시지를 출력한다.\n",
        "x = int(input(\"x의 값을 입력하시오.\"))    # 사용자로부터 x의 값을 입력받아 정수로 변환하여 변수 x에 저장한다.\n",
        "y = int(input(\"y의 값을 입력하시오.\"))    # 사용자로부터 y의 값을 입력받아 정수로 변환하여 변수 y에 저장한다.\n",
        "sum = x + y   # 변수 x와 y를 더한 값을 변수 sum에 저장한다.\n",
        "print(\"x + y의 합계는\", sum, \"입니다.\")   # \"x + y의 합계는\" 다음에 변수 sum의 값을 출력하여 합계를 나타낸다."
      ]
    },
    {
      "cell_type": "code",
      "source": [
        "print(\"상품의 가격을 입력하시오.\")    # 사용자에게 상품의 가격을 입력하라는 안내 메시지를 출력한다.\n",
        "price = int(input(\"가격을 입력하시오.\"))    # 사용자로부터 가격을 입력받아 정수로 변환하여 변수 price에 저장한다.\n",
        "vat = price * 0.1   # 가격에 대한 부가가치세(VAT)를 계산하여 변수 vat에 저장한다. (가격의 10%를 계산)\n",
        "print(\"해당 상품의 가격은\", vat, \"입니다\")    # \"해당 상품의 가격은\" 다음에 변수 vat의 값을 출력하여 부가가치세를 나타낸다."
      ],
      "metadata": {
        "colab": {
          "base_uri": "https://localhost:8080/"
        },
        "id": "AXwhu2hOlZPr",
        "outputId": "52e8e783-ed78-4465-9690-71526b2ba60b"
      },
      "execution_count": 2,
      "outputs": [
        {
          "output_type": "stream",
          "name": "stdout",
          "text": [
            "상품의 가격을 입력하시오.\n",
            "가격을 입력하시오.100000\n",
            "해당 상품의 가격은 10000.0 입니다\n"
          ]
        }
      ]
    }
  ]
}