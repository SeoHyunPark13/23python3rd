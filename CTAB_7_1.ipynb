{
  "nbformat": 4,
  "nbformat_minor": 0,
  "metadata": {
    "colab": {
      "provenance": [],
      "include_colab_link": true
    },
    "kernelspec": {
      "name": "python3",
      "display_name": "Python 3"
    },
    "language_info": {
      "name": "python"
    }
  },
  "cells": [
    {
      "cell_type": "markdown",
      "metadata": {
        "id": "view-in-github",
        "colab_type": "text"
      },
      "source": [
        "<a href=\"https://colab.research.google.com/github/SeoHyunPark13/23python3rd/blob/main/CTAB_7_1.ipynb\" target=\"_parent\"><img src=\"https://colab.research.google.com/assets/colab-badge.svg\" alt=\"Open In Colab\"/></a>"
      ]
    },
    {
      "cell_type": "markdown",
      "source": [
        "1. 일한 시간과 시급을 계산하여 출력하는 코드\n",
        " - 일한 시간(hours_worked)\n",
        " - 일한 날짜(day_month)\n",
        " - 시급(pay_rate)\n",
        " - 월급(monthly_pay)"
      ],
      "metadata": {
        "id": "EW1I2DX0n7dV"
      }
    },
    {
      "cell_type": "code",
      "source": [
        "hours_worked = int(input(\"일한 시간을 입력하시오.: \"))    # 일한 시간을 입력받습니다.\n",
        "pay_rate = int(input(\"시급을 입력하시오.(23년 시급 9620): \"))   # 시급을 입력받습니다.\n",
        "day_worked = int(input(\"일한 날짜를 입력하시오.: \"))    # 일한 날짜를 입력받습니다.\n",
        "day_month = hours_worked * day_worked   # 월의 총 일한 시간을 계산합니다.\n",
        "monthly_pay = hours_worked * pay_rate * day_worked    # 월급여를 계산합니다.\n",
        "print(f'일한 시간은 {hours_worked}시간 이며, 시급은 {pay_rate}원 이고, 월급여는 {monthly_pay}원 입니다. ')    # 입력받은 정보를 바탕으로 일한 시간, 시급, 월급여를 출력합니다.\n"
      ],
      "metadata": {
        "colab": {
          "base_uri": "https://localhost:8080/"
        },
        "id": "Bv4HbKoApDsX",
        "outputId": "aec6077a-4969-4dd3-af36-e64eec9c8217"
      },
      "execution_count": null,
      "outputs": [
        {
          "output_type": "stream",
          "name": "stdout",
          "text": [
            "일한 시간을 입력하시오.: 10\n",
            "시급을 입력하시오.(23년 시급 9620): 9620\n",
            "일한 날짜를 입력하시오.: 25\n",
            "일한 시간은 10시간 이며, 시급은 9620원 이고, 월급여는 2405000원 입니다. \n"
          ]
        }
      ]
    },
    {
      "cell_type": "markdown",
      "source": [
        "주어진 코드는 사용자로부터 일한 시간, 시급, 일한 날짜를 입력받아 월의 총 일한 시간과 월급여를 계산하여 출력하는 코드입니다.\n",
        "\n",
        "1. hours_worked = int(input(\"일한 시간을 입력하시오.: \"))를 사용하여 사용자로부터 일한 시간을 입력받고, 입력된 값을 정수로 변환하여 변수 hours_worked에 저장합니다.\n",
        "2. pay_rate = int(input(\"시급을 입력하시오.(23년 시급 9620): \"))를 사용하여 사용자로부터 시급을 입력받고, 입력된 값을 정수로 변환하여 변수 pay_rate에 저장합니다.\n",
        "3. day_worked = int(input(\"일한 날짜를 입력하시오.: \"))를 사용하여 사용자로부터 일한 날짜를 입력받고, 입력된 값을 정수로 변환하여 변수 day_worked에 저장합니다.\n",
        "4. day_month = hours_worked * day_worked를 사용하여 월의 총 일한 시간을 계산하여 변수 day_month에 저장합니다. 이는 하루에 일한 시간(hours_worked)을 일한 날짜(day_worked)에 곱하여 월의 총 일한 시간을 구하는 것입니다.\n",
        "5. monthly_pay = hours_worked * pay_rate * day_worked를 사용하여 월급여를 계산하여 변수 monthly_pay에 저장합니다. 이는 일한 시간(hours_worked)에 시급(pay_rate)을 곱하고, 일한 날짜(day_worked)에 곱하여 월급여를 구하는 것입니다.\n",
        "6. print(f'일한 시간은 {hours_worked}시간 이며, 시급은 {pay_rate}원 이고, 월급여는 {monthly_pay}원 입니다. ')를 사용하여 입력받은 정보를 바탕으로 일한 시간, 시급, 월급여를 출력합니다. 문자열 f-string을 사용하여 변수의 값을 출력합니다."
      ],
      "metadata": {
        "id": "Dc2PqoN4agrW"
      }
    },
    {
      "cell_type": "markdown",
      "source": [
        "2. 환전하는 코드를 작성\n",
        " - 변수 won, usd, exchange\n",
        " - 계산 won * usd\n"
      ],
      "metadata": {
        "id": "-F-aLqNluneC"
      }
    },
    {
      "cell_type": "code",
      "source": [
        "usd = int(input(\"환전할 달러을 입력.: \"))   # 환전할 달러를 입력받습니다.\n",
        "won = int(input(\"달러의 환율금액 입력(231031: 1372원)\"))    # 달러의 환율 금액을 입력받습니다.\n",
        "exchange = won * usd    # 달러를 원화로 환전한 금액을 계산합니다.\n",
        "print(f'환전하고 싶은 금액은 {usd}달러는 환율 {won}으로 계산하면, {exchange}원입니다.')   # 입력받은 정보를 바탕으로 환전하고 싶은 금액을 출력합니다.\n",
        "\n"
      ],
      "metadata": {
        "colab": {
          "base_uri": "https://localhost:8080/"
        },
        "id": "S9MCDjZ_u8Ez",
        "outputId": "7726012b-58b7-45b6-e693-3f4b129bd529"
      },
      "execution_count": null,
      "outputs": [
        {
          "output_type": "stream",
          "name": "stdout",
          "text": [
            "환전할 달러을 입력.: 500\n",
            "달러의 환율금액 입력(231031: 1372원)1372\n",
            "환전하고 싶은 금액은 500달러는 환율 1372으로 계산하면, 686000원입니다.\n"
          ]
        }
      ]
    },
    {
      "cell_type": "markdown",
      "source": [
        "주어진 코드는 사용자로부터 환전할 달러와 달러의 환율 금액을 입력받아 달러를 원화로 환전한 금액을 계산하여 출력하는 코드입니다.\n",
        "\n",
        "1. usd = int(input(\"환전할 달러을 입력.: \"))를 사용하여 사용자로부터 환전할 달러를 입력받고, 입력된 값을 정수로 변환하여 변수 usd에 저장합니다.\n",
        "2. won = int(input(\"달러의 환율금액 입력(231031: 1372원)\"))를 사용하여 사용자로부터 달러의 환율 금액을 입력받고, 입력된 값을 정수로 변환하여 변수 won에 저장합니다.\n",
        "3. exchange = won * usd를 사용하여 달러를 원화로 환전한 금액을 계산하여 변수 exchange에 저장합니다. 달러(usd)를 환율 금액(won)과 곱하여 원화로 환전한 금액을 구합니다.\n",
        "4. print(f'환전하고 싶은 금액은 {usd}달러는 환율 {won}으로 계산하면, {exchange}원입니다.')를 사용하여 입력받은 정보를 바탕으로 환전하고 싶은 금액을 출력합니다. 문자열 f-string을 사용하여 변수의 값을 출력합니다."
      ],
      "metadata": {
        "id": "IAOKaSmIayZL"
      }
    },
    {
      "cell_type": "markdown",
      "source": [
        "3. 화씨를 섭씨로 섭씨를 화씨로 변경하는 코드\n",
        " - 화씨를 섭씨로 ℉ = ℃* 1.8 + 32\n",
        " - 섭씨를 화씨로 ℃ = (℉ - 32) / 1.8\n",
        " - 변수 : 화씨 fahrenheit, 섭씨 celsius"
      ],
      "metadata": {
        "id": "UF4cSKSQyHWx"
      }
    },
    {
      "cell_type": "code",
      "source": [
        "fahrenheit = int(input(\"화씨를 입력하시오.: \"))   # 화씨 온도를 입력받습니다.\n",
        "celsius = (fahrenheit - 32) / 1.8   # 화씨를 섭씨로 변환하는 공식을 적용하여 섭씨 온도를 계산합니다.\n",
        "print(celsius)    # 계산된 섭씨 온도를 출력합니다.\n"
      ],
      "metadata": {
        "colab": {
          "base_uri": "https://localhost:8080/"
        },
        "id": "pNC11xkwzf5b",
        "outputId": "0a9c482c-4cf5-4dfc-99f3-74b0a5adac5a"
      },
      "execution_count": null,
      "outputs": [
        {
          "output_type": "stream",
          "name": "stdout",
          "text": [
            "화씨를 입력하시오.: 100\n",
            "37.77777777777778\n"
          ]
        }
      ]
    },
    {
      "cell_type": "markdown",
      "source": [
        "주어진 코드는 사용자로부터 화씨 온도를 입력받고, 입력된 화씨 온도를 섭씨로 변환하여 출력하는 코드입니다.\n",
        "\n",
        "1. fahrenheit = int(input(\"화씨를 입력하시오.: \"))를 사용하여 사용자로부터 화씨 온도를 입력받고, 입력된 값을 정수로 변환하여 변수 fahrenheit에 저장합니다.\n",
        "2. celsius = (fahrenheit - 32) / 1.8를 사용하여 화씨를 섭씨로 변환하는 공식을 적용하여 섭씨 온도를 계산합니다. 입력받은 화씨 온도(fahrenheit)에서 32를 빼고 1.8로 나누어 섭씨 온도를 구합니다.\n",
        "3. print(celsius)를 사용하여 계산된 섭씨 온도를 출력합니다."
      ],
      "metadata": {
        "id": "4cL6gQLva70Q"
      }
    },
    {
      "cell_type": "code",
      "source": [
        "celsius = float(input(\"섭씨를 입력하시오.: \"))    # 섭씨 온도를 입력받습니다.\n",
        "fahrenheit = celsius * 1.8 + 32   # 섭씨를 화씨로 변환하는 공식을 적용하여 화씨 온도를 계산합니다.\n",
        "print(fahrenheit)   # 계산된 화씨 온도를 출력합니다."
      ],
      "metadata": {
        "colab": {
          "base_uri": "https://localhost:8080/"
        },
        "id": "bGpiaOHi0NHn",
        "outputId": "2298f8da-c07a-4a88-a920-95a7794b48fc"
      },
      "execution_count": null,
      "outputs": [
        {
          "output_type": "stream",
          "name": "stdout",
          "text": [
            "섭씨를 입력하시오.: 37.77777777777778\n",
            "100.0\n"
          ]
        }
      ]
    },
    {
      "cell_type": "markdown",
      "source": [
        "주어진 코드는 사용자로부터 섭씨 온도를 입력받고, 입력된 섭씨 온도를 화씨로 변환하여 출력하는 코드입니다.\n",
        "\n",
        "1. celsius = float(input(\"섭씨를 입력하시오.: \"))를 사용하여 사용자로부터 섭씨 온도를 입력받고, 입력된 값을 실수로 변환하여 변수 celsius에 저장합니다.\n",
        "2. fahrenheit = celsius * 1.8 + 32를 사용하여 섭씨를 화씨로 변환하는 공식을 적용하여 화씨 온도를 계산합니다. 입력받은 섭씨 온도(celsius)에 1.8을 곱하고 32를 더하여 화씨 온도를 구합니다.\n",
        "3. print(fahrenheit)를 사용하여 계산된 화씨 온도를 출력합니다."
      ],
      "metadata": {
        "id": "MFvBoKRZbF2c"
      }
    }
  ]
}