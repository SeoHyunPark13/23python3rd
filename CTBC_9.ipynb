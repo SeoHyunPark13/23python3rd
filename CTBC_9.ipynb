{
  "nbformat": 4,
  "nbformat_minor": 0,
  "metadata": {
    "colab": {
      "provenance": [],
      "authorship_tag": "ABX9TyPCr4p4KVGqe5c5o5GOp5J3",
      "include_colab_link": true
    },
    "kernelspec": {
      "name": "python3",
      "display_name": "Python 3"
    },
    "language_info": {
      "name": "python"
    }
  },
  "cells": [
    {
      "cell_type": "markdown",
      "metadata": {
        "id": "view-in-github",
        "colab_type": "text"
      },
      "source": [
        "<a href=\"https://colab.research.google.com/github/SeoHyunPark13/23python3rd/blob/main/CTBC_9.ipynb\" target=\"_parent\"><img src=\"https://colab.research.google.com/assets/colab-badge.svg\" alt=\"Open In Colab\"/></a>"
      ]
    },
    {
      "cell_type": "markdown",
      "source": [
        "1. 두가지 이상의 선택, 다방향 선택구조 코딩\n",
        " - 배송료 처리 3가지로 코딩\n",
        " - 변수 : price\n",
        " - 조건 : 10만원 이상 배송비 0, 2만원 이상은 3천원, 2만원 이하면 5천원"
      ],
      "metadata": {
        "id": "AD1g40ZerpSb"
      }
    },
    {
      "cell_type": "code",
      "source": [
        "price = int(input(\"구입금액 입력: \"))             # 변수 price 사용자가 정수형 금액입력\n",
        "if price >= 100000:                                 # price의 값이 10만원보다 크거나 같으면\n",
        "   shipping_cost = 0                                # 선택1. 배송료(shipping_cost)는 0원\n",
        "else:                                             # 그게 아니면\n",
        " if price >= 20000:                                 # 선택2. price값이 2만원보다 크거나 같으면\n",
        "   shipping_cost = 3000                                   # 배송료(shipping_cost)는 3000원\n",
        " else:                                             # 그것도 아니면\n",
        "   shipping_cost = 5000                                 # 선택3. 배송료(shipping_cost)는 5000원\n",
        "print(f'배송료는 {shipping_cost}원 입니다. ')    # F-String문자 Format으로 최종 배송료출력"
      ],
      "metadata": {
        "colab": {
          "base_uri": "https://localhost:8080/"
        },
        "id": "6Q2P8HazsWrP",
        "outputId": "23bf7a68-9231-4c19-8d82-ab002f1e676e"
      },
      "execution_count": null,
      "outputs": [
        {
          "output_type": "stream",
          "name": "stdout",
          "text": [
            "구입금액 입력: 50000\n",
            "배송료는 3000원 입니다. \n"
          ]
        }
      ]
    },
    {
      "cell_type": "markdown",
      "source": [
        "2. 반복구조를 이용한 \"환영합니다.\"를 5번 출력하는 코드작성\n",
        " - 변수 : welcome\n",
        " - 출력내용 : 환영합니다.를 세로로 5번, 10번, 30번"
      ],
      "metadata": {
        "id": "67u1VvTaymZi"
      }
    },
    {
      "cell_type": "code",
      "source": [
        "print(\"환영합니다.\")\n",
        "print(\"환영합니다.\")\n",
        "print(\"환영합니다.\")\n",
        "print(\"환영합니다.\")\n",
        "print(\"환영합니다.\")"
      ],
      "metadata": {
        "id": "1_2H-mPoy7mY"
      },
      "execution_count": null,
      "outputs": []
    },
    {
      "cell_type": "code",
      "source": [
        "print(\"환영합니다.\\n\" * 5)"
      ],
      "metadata": {
        "colab": {
          "base_uri": "https://localhost:8080/"
        },
        "id": "PR95eJcOzG-7",
        "outputId": "4b51c378-c243-4e1a-a6fd-34133e75d3d7"
      },
      "execution_count": null,
      "outputs": [
        {
          "output_type": "stream",
          "name": "stdout",
          "text": [
            "환영합니다.\n",
            "환영합니다.\n",
            "환영합니다.\n",
            "환영합니다.\n",
            "환영합니다.\n",
            "\n"
          ]
        }
      ]
    },
    {
      "cell_type": "code",
      "source": [
        "count = 1\n",
        "while count <= 5:\n",
        " print(\"(\", count, \")\", \"환영합니다.\")\n",
        " count = count + 1"
      ],
      "metadata": {
        "colab": {
          "base_uri": "https://localhost:8080/"
        },
        "id": "ssWUEPMJznvf",
        "outputId": "f2bc1b87-7f24-40e0-ada4-b5f8490ddf55"
      },
      "execution_count": null,
      "outputs": [
        {
          "output_type": "stream",
          "name": "stdout",
          "text": [
            "( 1 ) 환영합니다.\n",
            "( 2 ) 환영합니다.\n",
            "( 3 ) 환영합니다.\n",
            "( 4 ) 환영합니다.\n",
            "( 5 ) 환영합니다.\n"
          ]
        }
      ]
    },
    {
      "cell_type": "markdown",
      "source": [
        "3. 0부터 9까지 출력하는 코드 작성\n",
        " - 변수 : x\n"
      ],
      "metadata": {
        "id": "3qraG3Nf1jVr"
      }
    },
    {
      "cell_type": "code",
      "source": [
        "x = 0\n",
        "while x < 10:\n",
        "  # print(x)\n",
        "  print(x, end=' ')\n",
        "  x = x + 1"
      ],
      "metadata": {
        "colab": {
          "base_uri": "https://localhost:8080/"
        },
        "id": "KM4RAdIN1r4-",
        "outputId": "26991399-95f8-4d24-84d3-6bc0a669ec7e"
      },
      "execution_count": null,
      "outputs": [
        {
          "output_type": "stream",
          "name": "stdout",
          "text": [
            "0 1 2 3 4 5 6 7 8 9 "
          ]
        }
      ]
    },
    {
      "cell_type": "markdown",
      "source": [
        "4. 1부터 10까지 합산하는 코드 작성"
      ],
      "metadata": {
        "id": "0jjy74rY3D44"
      }
    },
    {
      "cell_type": "code",
      "source": [
        "x = 1\n",
        "total = 0\n",
        "while x <= 10:\n",
        "  total += x\n",
        "  #total = total + 1\n",
        "  #x = x + 1\n",
        "  x += 1\n",
        "print(total)"
      ],
      "metadata": {
        "colab": {
          "base_uri": "https://localhost:8080/"
        },
        "id": "f3U1gj9l3JXK",
        "outputId": "77adb7cb-f81f-42b1-deff-e9c6641d5785"
      },
      "execution_count": null,
      "outputs": [
        {
          "output_type": "stream",
          "name": "stdout",
          "text": [
            "55\n"
          ]
        }
      ]
    },
    {
      "cell_type": "markdown",
      "source": [
        "5. 3-6-9 게임 (3의 배수 판단 ): 3의 배수를 3으로 나누면 나머지가 0이 되므로 (i mod 3)의 값이 0이면 박수를 출력, 아니면 숫자 출력하는 코드"
      ],
      "metadata": {
        "id": "Xa_nJabR4bx1"
      }
    },
    {
      "cell_type": "code",
      "source": [
        "num = 1\n",
        "while num <= 30:\n",
        "  if num % 3 == 0:\n",
        "   print(\"박수\", end=' ')\n",
        "  else:\n",
        "   print(num, end=' ')\n",
        "  num += 1"
      ],
      "metadata": {
        "colab": {
          "base_uri": "https://localhost:8080/"
        },
        "id": "MP17yxhb5T1C",
        "outputId": "455e48ec-6e6a-46fe-a589-aa55f4e639fb"
      },
      "execution_count": 1,
      "outputs": [
        {
          "output_type": "stream",
          "name": "stdout",
          "text": [
            "1 2 박수 4 5 박수 7 8 박수 10 11 박수 13 14 박수 16 17 박수 19 20 박수 22 23 박수 25 26 박수 28 29 박수 "
          ]
        }
      ]
    },
    {
      "cell_type": "code",
      "source": [
        "for num in range(1, 30):\n",
        " if num % 3 == 0:\n",
        "  print(\"박수\", end=' ')\n",
        " else:\n",
        "  print(num, end=' ')"
      ],
      "metadata": {
        "colab": {
          "base_uri": "https://localhost:8080/"
        },
        "id": "fqUtYhv64uEL",
        "outputId": "52213c79-5172-411f-fa2e-4f119b049cbd"
      },
      "execution_count": 2,
      "outputs": [
        {
          "output_type": "stream",
          "name": "stdout",
          "text": [
            "1 2 박수 4 5 박수 7 8 박수 10 11 박수 13 14 박수 16 17 박수 19 20 박수 22 23 박수 25 26 박수 28 29 "
          ]
        }
      ]
    },
    {
      "cell_type": "markdown",
      "source": [
        "6. 팩토리얼 계산하는 코드 작성\n",
        " - 11 = 1, 2! = 2(1), 3! = (2)(1) = 6"
      ],
      "metadata": {
        "id": "H3ihe296c9jW"
      }
    },
    {
      "cell_type": "code",
      "source": [
        "i = 5\n",
        "factorial = 1\n",
        "while i >=1:\n",
        "  factorial *= i\n",
        "  i -= 1\n",
        "print(factorial)"
      ],
      "metadata": {
        "colab": {
          "base_uri": "https://localhost:8080/"
        },
        "id": "0ausKf4yc2xM",
        "outputId": "1915dc0e-99a8-48c6-cdf7-52a9cf27bf02"
      },
      "execution_count": 19,
      "outputs": [
        {
          "output_type": "stream",
          "name": "stdout",
          "text": [
            "120\n"
          ]
        }
      ]
    },
    {
      "cell_type": "code",
      "source": [
        "#계산할 숫자를 입력받습니다.\n",
        "num = int(input(\"팩토리얼을 계산할 숫자를 입력하시오: \"))\n",
        "\n",
        "#초기값으로 1을 설정합니다.\n",
        "factorial = 1\n",
        "\n",
        "#팩토리얼 계싼을 위한 반복문인 while입니다.\n",
        "while num >= 1:     #num값이 1보다 크거나 같을 때 하위 문장(코드)를 진행\n",
        "  factorial = factorial * num       #현재 num값을 factorial값에 곱해줍니다\n",
        "  num -= 1      #num값을 1식 감소시킵니다.\n",
        "\n",
        "print(f'계산된 팩토리얼 값은 {factorial}입니다.')"
      ],
      "metadata": {
        "colab": {
          "base_uri": "https://localhost:8080/"
        },
        "id": "GKkl8_Yid_4Y",
        "outputId": "2e21b643-b8d3-460a-d66a-cfad3d7919aa"
      },
      "execution_count": 7,
      "outputs": [
        {
          "output_type": "stream",
          "name": "stdout",
          "text": [
            "팩토리얼을 계산할 숫자를 입력하시오: 5\n",
            "계산된 팩토리얼 값은 120입니다.\n"
          ]
        }
      ]
    },
    {
      "cell_type": "markdown",
      "source": [
        "7, 구구단을 출력해주는 코드 작성\n",
        "- 변수 : 단\n",
        "- 반복문(1) : for문 사용\n",
        "- 반복문(2) : while문 사용"
      ],
      "metadata": {
        "id": "ShQKEqu0fMEI"
      }
    },
    {
      "cell_type": "code",
      "source": [
        "#for문 사용\n",
        "dan = int(input(\"구구단에서 몇단을 출력할까요: \"))\n",
        "for i in range(1,9):\n",
        "  print(dan, \"x\", i, \"=\", dan * i)"
      ],
      "metadata": {
        "colab": {
          "base_uri": "https://localhost:8080/"
        },
        "id": "35Hbhsw9fNuQ",
        "outputId": "aab99aec-104b-4c97-eb7c-33afac376952"
      },
      "execution_count": 9,
      "outputs": [
        {
          "output_type": "stream",
          "name": "stdout",
          "text": [
            "구구단에서 몇단을 출력할까요: 5\n",
            "5 x 1 = 5\n",
            "5 x 2 = 10\n",
            "5 x 3 = 15\n",
            "5 x 4 = 20\n",
            "5 x 5 = 25\n",
            "5 x 6 = 30\n",
            "5 x 7 = 35\n",
            "5 x 8 = 40\n"
          ]
        }
      ]
    },
    {
      "cell_type": "code",
      "source": [
        "#while문 사용\n",
        "dan = int(input(\"구구단에서 몇단을 출력할래?: \"))\n",
        "i = 1\n",
        "while i <=9:\n",
        "  print(dan, \"x\", i, \"=\", dan * 1)\n",
        "  i += 1"
      ],
      "metadata": {
        "colab": {
          "base_uri": "https://localhost:8080/"
        },
        "id": "_Wga3lUbgEn-",
        "outputId": "6c0c065b-763d-40f9-a396-309d7889fbf6"
      },
      "execution_count": 10,
      "outputs": [
        {
          "output_type": "stream",
          "name": "stdout",
          "text": [
            "구구단에서 몇단을 출력할래?: 5\n",
            "5 x 1 = 5\n",
            "5 x 2 = 5\n",
            "5 x 3 = 5\n",
            "5 x 4 = 5\n",
            "5 x 5 = 5\n",
            "5 x 6 = 5\n",
            "5 x 7 = 5\n",
            "5 x 8 = 5\n",
            "5 x 9 = 5\n"
          ]
        }
      ]
    }
  ]
}