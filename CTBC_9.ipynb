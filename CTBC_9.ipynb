{
  "nbformat": 4,
  "nbformat_minor": 0,
  "metadata": {
    "colab": {
      "provenance": [],
      "include_colab_link": true
    },
    "kernelspec": {
      "name": "python3",
      "display_name": "Python 3"
    },
    "language_info": {
      "name": "python"
    }
  },
  "cells": [
    {
      "cell_type": "markdown",
      "metadata": {
        "id": "view-in-github",
        "colab_type": "text"
      },
      "source": [
        "<a href=\"https://colab.research.google.com/github/SeoHyunPark13/23python3rd/blob/main/CTBC_9.ipynb\" target=\"_parent\"><img src=\"https://colab.research.google.com/assets/colab-badge.svg\" alt=\"Open In Colab\"/></a>"
      ]
    },
    {
      "cell_type": "markdown",
      "source": [
        "1. 두가지 이상의 선택, 다방향 선택구조 코딩\n",
        " - 배송료 처리 3가지로 코딩\n",
        " - 변수 : price\n",
        " - 조건 : 10만원 이상 배송비 0, 2만원 이상은 3천원, 2만원 이하면 5천원"
      ],
      "metadata": {
        "id": "AD1g40ZerpSb"
      }
    },
    {
      "cell_type": "code",
      "source": [
        "price = int(input(\"구입금액 입력: \"))             # 변수 price 사용자가 정수형 금액입력\n",
        "if price >= 100000:                                 # price의 값이 10만원보다 크거나 같으면\n",
        "   shipping_cost = 0                                # 선택1. 배송료(shipping_cost)는 0원\n",
        "else:                                             # 그게 아니면\n",
        " if price >= 20000:                                 # 선택2. price값이 2만원보다 크거나 같으면\n",
        "   shipping_cost = 3000                                   # 배송료(shipping_cost)는 3000원\n",
        " else:                                             # 그것도 아니면\n",
        "   shipping_cost = 5000                                 # 선택3. 배송료(shipping_cost)는 5000원\n",
        "print(f'배송료는 {shipping_cost}원 입니다. ')    # F-String문자 Format으로 최종 배송료출력"
      ],
      "metadata": {
        "colab": {
          "base_uri": "https://localhost:8080/"
        },
        "id": "6Q2P8HazsWrP",
        "outputId": "23bf7a68-9231-4c19-8d82-ab002f1e676e"
      },
      "execution_count": null,
      "outputs": [
        {
          "output_type": "stream",
          "name": "stdout",
          "text": [
            "구입금액 입력: 50000\n",
            "배송료는 3000원 입니다. \n"
          ]
        }
      ]
    },
    {
      "cell_type": "markdown",
      "source": [
        "1. price = int(input(\"구입금액 입력: \")) 코드는 사용자로부터 정수형 구입금액을 입력받아 price 변수에 저장합니다. input() 함수를 사용하여 사용자 입력을 받고, int() 함수를 사용하여 입력값을 정수로 변환합니다.\n",
        "2. if price >= 100000: 코드는 price의 값이 100,000보다 크거나 같은지를 확인합니다. 만약 조건이 참이라면 아래 들여쓰기된 블록을 실행합니다.\n",
        "3. 들여쓰기된 블록 내부에 있는 shipping_cost = 0 코드는 배송료를 0원으로 설정합니다. 즉, 구입금액이 100,000원 이상일 경우 배송료는 0원입니다.\n",
        "4. 만약 첫 번째 조건이 거짓인 경우, else: 아래의 블록이 실행됩니다.\n",
        "5. if price >= 20000: 코드는 price의 값이 20,000보다 크거나 같은지를 확인합니다. 조건이 참이라면 아래 들여쓰기된 블록을 실행합니다.\n",
        "6. 들여쓰기된 블록 내부에 있는 shipping_cost = 3000 코드는 배송료를 3,000원으로 설정합니다. 즉, 구입금액이 20,000원 이상일 경우 배송료는 3,000원입니다.\n",
        "7. 두 번째 조건도 거짓인 경우, else: 아래의 블록이 실행됩니다.\n",
        "8. shipping_cost = 5000 코드는 배송료를 5,000원으로 설정합니다. 구입금액이 20,000원 미만일 경우 배송료는 5,000원입니다.\n",
        "9. print(f'배송료는 {shipping_cost}원 입니다. ') 코드는 F-string을 사용하여 최종 배송료인 shipping_cost를 출력합니다. 출력 메시지에 배송료 값을 포매팅하여 출력합니다.\n",
        "\n",
        "따라서, 주어진 코드는 사용자로부터 구입금액을 입력받아 배송료를 계산하고, 계산된 배송료를 출력하는 코드입니다."
      ],
      "metadata": {
        "id": "6u8EstPMVUAM"
      }
    },
    {
      "cell_type": "markdown",
      "source": [
        "2. 반복구조를 이용한 \"환영합니다.\"를 5번 출력하는 코드작성\n",
        " - 변수 : welcome\n",
        " - 출력내용 : 환영합니다.를 세로로 5번, 10번, 30번"
      ],
      "metadata": {
        "id": "67u1VvTaymZi"
      }
    },
    {
      "cell_type": "code",
      "source": [
        "print(\"환영합니다.\")    # \"환영합니다.\"를 출력하는 부분입니다.\n",
        "print(\"환영합니다.\")\n",
        "print(\"환영합니다.\")\n",
        "print(\"환영합니다.\")\n",
        "print(\"환영합니다.\")"
      ],
      "metadata": {
        "id": "1_2H-mPoy7mY"
      },
      "execution_count": null,
      "outputs": []
    },
    {
      "cell_type": "code",
      "source": [
        "print(\"환영합니다.\\n\" * 5)"
      ],
      "metadata": {
        "colab": {
          "base_uri": "https://localhost:8080/"
        },
        "id": "PR95eJcOzG-7",
        "outputId": "4b51c378-c243-4e1a-a6fd-34133e75d3d7"
      },
      "execution_count": null,
      "outputs": [
        {
          "output_type": "stream",
          "name": "stdout",
          "text": [
            "환영합니다.\n",
            "환영합니다.\n",
            "환영합니다.\n",
            "환영합니다.\n",
            "환영합니다.\n",
            "\n"
          ]
        }
      ]
    },
    {
      "cell_type": "code",
      "source": [
        "count = 1\n",
        "while count <= 5:\n",
        " print(\"(\", count, \")\", \"환영합니다.\")    # count와 함께 \"환영합니다.\"를 출력하는 부분입니다.\n",
        " count = count + 1"
      ],
      "metadata": {
        "colab": {
          "base_uri": "https://localhost:8080/"
        },
        "id": "ssWUEPMJznvf",
        "outputId": "f2bc1b87-7f24-40e0-ada4-b5f8490ddf55"
      },
      "execution_count": null,
      "outputs": [
        {
          "output_type": "stream",
          "name": "stdout",
          "text": [
            "( 1 ) 환영합니다.\n",
            "( 2 ) 환영합니다.\n",
            "( 3 ) 환영합니다.\n",
            "( 4 ) 환영합니다.\n",
            "( 5 ) 환영합니다.\n"
          ]
        }
      ]
    },
    {
      "cell_type": "markdown",
      "source": [
        "주어진 코드는 반복문을 사용하여 \"환영합니다.\"라는 문장을 1부터 5까지 번호와 함께 출력하는 코드입니다.\n",
        "\n",
        "1. count = 1은 변수 count를 1로 초기화합니다.\n",
        "2. while count <= 5:은 count가 5 이하일 동안 아래의 코드 블록을 반복 실행합니다.\n",
        "3. print(\"(\", count, \")\", \"환영합니다.\")은 count 값을 번호와 함께 \"환영합니다.\"라는 문장을 출력합니다.\n",
        "4. count = count + 1은 count 값을 1씩 증가시킵니다.\n",
        "5. 이렇게 반복문이 실행되면 \"(1) 환영합니다.\", \"(2) 환영합니다.\", \"(3) 환영합니다.\", \"(4) 환영합니다.\", \"(5) 환영합니다.\"라는 메시지가 순서대로 출력됩니다.\n",
        "\n",
        "간단히 말하면, 주어진 코드는 1부터 5까지 번호와 함께 \"환영합니다.\"라는 문장을 출력하는 것입니다."
      ],
      "metadata": {
        "id": "vjJSMm0aVzVD"
      }
    },
    {
      "cell_type": "markdown",
      "source": [
        "3. 0부터 9까지 출력하는 코드 작성\n",
        " - 변수 : x\n"
      ],
      "metadata": {
        "id": "3qraG3Nf1jVr"
      }
    },
    {
      "cell_type": "code",
      "source": [
        "x = 0   # 변수 x를 0으로 초기화합니다.\n",
        "while x < 10:   # x가 10보다 작을 때까지 반복합니다.\n",
        "  # print(x)\n",
        "  print(x, end=' ')   # x를 출력하고 공백을 추가로 출력하는 부분입니다.\n",
        "  x = x + 1   # x를 1씩 증가시킵니다."
      ],
      "metadata": {
        "colab": {
          "base_uri": "https://localhost:8080/"
        },
        "id": "KM4RAdIN1r4-",
        "outputId": "26991399-95f8-4d24-84d3-6bc0a669ec7e"
      },
      "execution_count": null,
      "outputs": [
        {
          "output_type": "stream",
          "name": "stdout",
          "text": [
            "0 1 2 3 4 5 6 7 8 9 "
          ]
        }
      ]
    },
    {
      "cell_type": "markdown",
      "source": [
        "주어진 코드는 변수 x를 0으로 초기화하고, 반복문을 사용하여 x가 10보다 작을 때까지 x 값을 출력하고 공백을 추가로 출력하는 코드입니다.\n",
        "\n",
        "1. x = 0은 변수 x를 0으로 초기화합니다.\n",
        "2. while x < 10:은 x가 10보다 작을 동안 아래의 코드 블록을 반복 실행합니다.\n",
        "3. print(x, end=' ')은 x 값을 출력하고, 공백을 추가로 출력합니다. end=' ' 부분은 줄 바꿈 대신 공백을 추가하도록 설정하는 역할을 합니다.\n",
        "4. x = x + 1은 x 값을 1씩 증가시킵니다.\n",
        "5. 이렇게 반복문이 실행되면 0부터 9까지의 숫자가 공백을 사이에 두고 출력됩니다. 예를 들어 출력 결과는 \"0 1 2 3 4 5 6 7 8 9\"가 됩니다.\n",
        "\n",
        "간단히 말하면, 주어진 코드는 0부터 9까지의 숫자를 공백을 사이에 두고 출력하는 것입니다."
      ],
      "metadata": {
        "id": "sr30hfQ0WMSv"
      }
    },
    {
      "cell_type": "markdown",
      "source": [
        "4. 1부터 10까지 합산하는 코드 작성"
      ],
      "metadata": {
        "id": "0jjy74rY3D44"
      }
    },
    {
      "cell_type": "code",
      "source": [
        "x = 1   # 변수 x를 1로 초기화합니다.\n",
        "total = 0   # 변수 total을 0으로 초기화합니다.\n",
        "while x <= 10:    # x가 10 이하인 동안 반복합니다.\n",
        "  total += x    # total에 x를 더합니다.\n",
        "  #total = total + 1\n",
        "  #x = x + 1\n",
        "  x += 1    # x를 1씩 증가시키는 부분입니다.\n",
        "print(total)    # total을 출력합니다."
      ],
      "metadata": {
        "colab": {
          "base_uri": "https://localhost:8080/"
        },
        "id": "f3U1gj9l3JXK",
        "outputId": "77adb7cb-f81f-42b1-deff-e9c6641d5785"
      },
      "execution_count": null,
      "outputs": [
        {
          "output_type": "stream",
          "name": "stdout",
          "text": [
            "55\n"
          ]
        }
      ]
    },
    {
      "cell_type": "markdown",
      "source": [
        "주어진 코드는 변수 x를 1로 초기화하고, 변수 total을 0으로 초기화한 뒤, 반복문을 사용하여 x가 10 이하일 동안 total에 x 값을 더하는 코드입니다. 마지막으로 total 값을 출력합니다.\n",
        "\n",
        "1. x = 1은 변수 x를 1로 초기화합니다.\n",
        "2. total = 0은 변수 total을 0으로 초기화합니다.\n",
        "3. while x <= 10:은 x가 10 이하일 동안 아래의 코드 블록을 반복 실행합니다.\n",
        "4. total += x는 total에 x 값을 더합니다. +=는 현재 total 값에 x 값을 더한 후 그 결과를 다시 total에 할당하는 단축 연산자입니다.\n",
        "5. x += 1은 x 값을 1씩 증가시킵니다.\n",
        "6. 이렇게 반복문이 실행되면 x 값이 1부터 10까지 증가하면서 total에 더해집니다.\n",
        "7. 마지막으로 print(total)을 통해 total 값을 출력합니다.\n",
        "\n",
        "간단히 말하면, 주어진 코드는 1부터 10까지의 숫자를 모두 더한 결과를 출력하는 것입니다."
      ],
      "metadata": {
        "id": "umlD0hQPWxVy"
      }
    },
    {
      "cell_type": "markdown",
      "source": [
        "5. 3-6-9 게임 (3의 배수 판단 ): 3의 배수를 3으로 나누면 나머지가 0이 되므로 (i mod 3)의 값이 0이면 박수를 출력, 아니면 숫자 출력하는 코드"
      ],
      "metadata": {
        "id": "Xa_nJabR4bx1"
      }
    },
    {
      "cell_type": "code",
      "source": [
        "num = 1   # 변수 num을 1로 초기화합니다.\n",
        "while num <= 30:    # num이 30 이하인 동안 반복합니다.\n",
        "  if num % 3 == 0:    # num이 3으로 나누어 떨어지는지 확인합니다.\n",
        "   print(\"박수\", end=' ')   # num이 3의 배수일 경우 \"박수\"를 출력합니다.\n",
        "  else:\n",
        "   print(num, end=' ')    # num을 출력합니다.\n",
        "  num += 1    # num을 1씩 증가시킵니다."
      ],
      "metadata": {
        "colab": {
          "base_uri": "https://localhost:8080/"
        },
        "id": "MP17yxhb5T1C",
        "outputId": "455e48ec-6e6a-46fe-a589-aa55f4e639fb"
      },
      "execution_count": null,
      "outputs": [
        {
          "output_type": "stream",
          "name": "stdout",
          "text": [
            "1 2 박수 4 5 박수 7 8 박수 10 11 박수 13 14 박수 16 17 박수 19 20 박수 22 23 박수 25 26 박수 28 29 박수 "
          ]
        }
      ]
    },
    {
      "cell_type": "markdown",
      "source": [
        "주어진 코드는 변수 num을 1로 초기화하고, 반복문을 사용하여 num이 30 이하일 동안 조건에 따라 출력하는 코드입니다.\n",
        "\n",
        "1. num = 1은 변수 num을 1로 초기화합니다.\n",
        "2. while num <= 30:은 num이 30 이하일 동안 아래의 코드 블록을 반복 실행합니다.\n",
        "3. if num % 3 == 0:는 num이 3으로 나누어 떨어지는지 확인하는 조건문입니다. %는 나머지 연산자이며, num % 3은 num을 3으로 나눈 나머지를 의미합니다.\n",
        "4. 만약 num이 3의 배수일 경우에는 \"박수\"를 출력합니다. 그렇지 않은 경우에는 num 값을 출력합니다.\n",
        "5. num += 1은 num 값을 1씩 증가시킵니다.\n",
        "6. 이렇게 반복문이 실행되면 num 값이 1부터 30까지 증가하면서 조건에 따라 출력됩니다.\n",
        "\n",
        "간단히 말하면, 주어진 코드는 1부터 30까지의 숫자를 출력하는데, 3의 배수일 경우에는 \"박수\"를 출력하는 것입니다."
      ],
      "metadata": {
        "id": "XvIOc0YvXKYl"
      }
    },
    {
      "cell_type": "code",
      "source": [
        "for num in range(1, 30):    # 1부터 29까지의 숫자에 대해 반복합니다.\n",
        " if num % 3 == 0:   # num이 3으로 나누어 떨어지는지 확인합니다.\n",
        "  print(\"박수\", end=' ')    # num이 3의 배수일 경우 \"박수\"를 출력합니다.\n",
        " else:\n",
        "  print(num, end=' ')   # num을 출력합니다."
      ],
      "metadata": {
        "colab": {
          "base_uri": "https://localhost:8080/"
        },
        "id": "fqUtYhv64uEL",
        "outputId": "52213c79-5172-411f-fa2e-4f119b049cbd"
      },
      "execution_count": null,
      "outputs": [
        {
          "output_type": "stream",
          "name": "stdout",
          "text": [
            "1 2 박수 4 5 박수 7 8 박수 10 11 박수 13 14 박수 16 17 박수 19 20 박수 22 23 박수 25 26 박수 28 29 "
          ]
        }
      ]
    },
    {
      "cell_type": "markdown",
      "source": [
        "주어진 코드는 for 반복문을 사용하여 범위 내의 숫자에 대해 반복하고, 조건에 따라 출력하는 코드입니다.\n",
        "\n",
        "1. for num in range(1, 30):은 1부터 29까지의 숫자에 대해 반복합니다.\n",
        "2. if num % 3 == 0:는 num을 3으로 나누었을 때 나머지가 0인지 확인하는 조건문입니다. 즉, 3. num이 3의 배수인지 확인합니다.\n",
        "4. 만약 num이 3의 배수라면 \"박수\"를 출력합니다.\n",
        "5. 그렇지 않은 경우에는 num 값을 출력합니다.\n",
        "6. end=' '는 출력 후 줄바꿈 대신에 공백을 사용하여 출력 결과를 나란히 표시합니다.\n",
        "7. 이렇게 반복문이 실행되면 1부터 29까지의 숫자에 대해 조건에 따라 출력됩니다.\n",
        "\n",
        "간단히 말하면, 주어진 코드는 1부터 29까지의 숫자를 출력하되, 3의 배수일 경우에는 \"박수\"를 출력하는 것입니다"
      ],
      "metadata": {
        "id": "ofLhytVlXc9O"
      }
    },
    {
      "cell_type": "markdown",
      "source": [
        "6. 팩토리얼 계산하는 코드 작성\n",
        " - 11 = 1, 2! = 2(1), 3! = (2)(1) = 6"
      ],
      "metadata": {
        "id": "H3ihe296c9jW"
      }
    },
    {
      "cell_type": "code",
      "source": [
        "i = 5   # 변수 i를 5로 초기화합니다.\n",
        "factorial = 1   # 변수 factorial을 1로 초기화합니다.\n",
        "while i >=1:    # i가 1 이상인 동안 반복합니다.\n",
        "  factorial *= i    # factorial에 i를 곱합니다.\n",
        "  i -= 1    # i를 1씩 감소시킵니다.\n",
        "print(factorial)    # factorial을 출력합니다."
      ],
      "metadata": {
        "colab": {
          "base_uri": "https://localhost:8080/"
        },
        "id": "0ausKf4yc2xM",
        "outputId": "1915dc0e-99a8-48c6-cdf7-52a9cf27bf02"
      },
      "execution_count": null,
      "outputs": [
        {
          "output_type": "stream",
          "name": "stdout",
          "text": [
            "120\n"
          ]
        }
      ]
    },
    {
      "cell_type": "markdown",
      "source": [
        "주어진 코드는 변수 i를 5로 초기화하고, 변수 factorial을 1로 초기화한 후, 반복문을 사용하여 팩토리얼 값을 계산하고 출력하는 코드입니다.\n",
        "\n",
        "1. i를 5로 초기화합니다. i는 팩토리얼 연산에 사용될 변수입니다.\n",
        "2. factorial을 1로 초기화합니다. factorial은 팩토리얼 값을 저장할 변수입니다.\n",
        "3. while i >= 1:는 i가 1 이상인 동안 아래의 코드 블록을 반복 실행합니다.\n",
        "4. 반복문 내부에서 factorial *= i를 사용하여 factorial에 i를 곱합니다. 이는 factorial = factorial * i와 동일한 의미입니다. 즉, 현재까지의 팩토리얼 값에 i를 곱하여 업데이트합니다.\n",
        "5. i -= 1은 i를 1씩 감소시킵니다. 이는 i = i - 1과 동일한 의미입니다. 반복문이 한 번 실행될 때마다 i의 값이 1씩 감소합니다.\n",
        "6. 반복문이 종료되면 i가 1 이하가 되어 반복문을 빠져나옵니다. 이때 factorial에는 5부터 1까지의 숫자를 모두 곱한 결과가 저장되어 있습니다.\n",
        "7. 마지막으로 print(factorial)을 사용하여 factorial 값을 출력합니다.\n",
        "\n",
        "간단히 말하면, 주어진 코드는 5부터 1까지의 숫자를 곱한 팩토리얼 값을 계산하고 출력하는 것입니다."
      ],
      "metadata": {
        "id": "s22bH3YlXmqk"
      }
    },
    {
      "cell_type": "code",
      "source": [
        "#계산할 숫자를 입력받습니다.\n",
        "num = int(input(\"팩토리얼을 계산할 숫자를 입력하시오: \"))\n",
        "\n",
        "#초기값으로 1을 설정합니다.\n",
        "factorial = 1\n",
        "\n",
        "#팩토리얼 계싼을 위한 반복문인 while입니다.\n",
        "while num >= 1:     #num값이 1보다 크거나 같을 때 하위 문장(코드)를 진행\n",
        "  factorial = factorial * num       #현재 num값을 factorial값에 곱해줍니다\n",
        "  num -= 1      #num값을 1식 감소시킵니다.\n",
        "\n",
        "print(f'계산된 팩토리얼 값은 {factorial}입니다.')"
      ],
      "metadata": {
        "colab": {
          "base_uri": "https://localhost:8080/"
        },
        "id": "GKkl8_Yid_4Y",
        "outputId": "2e21b643-b8d3-460a-d66a-cfad3d7919aa"
      },
      "execution_count": null,
      "outputs": [
        {
          "output_type": "stream",
          "name": "stdout",
          "text": [
            "팩토리얼을 계산할 숫자를 입력하시오: 5\n",
            "계산된 팩토리얼 값은 120입니다.\n"
          ]
        }
      ]
    },
    {
      "cell_type": "markdown",
      "source": [
        "주어진 코드는 사용자로부터 숫자를 입력받아 해당 숫자의 팩토리얼을 계산하고 출력하는 코드입니다.\n",
        "\n",
        "1. num = int(input(\"팩토리얼을 계산할 숫자를 입력하시오: \"))를 사용하여 사용자로부터 숫자를 입력받습니다. 입력된 값은 num 변수에 정수로 저장됩니다.\n",
        "2. factorial = 1을 사용하여 초기값으로 factorial을 1로 설정합니다. factorial은 팩토리얼 값을 저장할 변수입니다.\n",
        "3. while num >= 1:은 num 값이 1보다 크거나 같은 동안 아래의 코드 블록을 반복 실행합니다.\n",
        "4. 반복문 내부에서 factorial = factorial * num을 사용하여 현재의 num 값을 factorial에 곱해줍니다. 이는 팩토리얼 값을 계산하는 과정입니다.\n",
        "5. num -= 1은 num 값을 1씩 감소시킵니다. 이는 반복문이 한 번 실행될 때마다 num의 값을 1씩 줄여나감으로써 팩토리얼 값을 계산하는 과정을 진행합니다.\n",
        "6. 반복문이 종료되면 num 값이 1보다 작아지므로 반복문을 빠져나옵니다. 이때 factorial에는 입력된 숫자의 팩토리얼 값이 저장되어 있습니다.\n",
        "7. 마지막으로 print(f'계산된 팩토리얼 값은 {factorial}입니다.')을 사용하여 계산된 팩토리얼 값을 출력합니다. 출력문에서는 f-string을 사용하여 계산된 팩토리얼 값을 문자열에 포맷팅하여 출력합니다.\n",
        "\n",
        "간단히 말하면, 주어진 코드는 사용자로부터 숫자를 입력받아 해당 숫자의 팩토리얼 값을 계산하고 출력하는 것입니다."
      ],
      "metadata": {
        "id": "wWRkkSqyX6Ng"
      }
    },
    {
      "cell_type": "markdown",
      "source": [
        "7, 구구단을 출력해주는 코드 작성\n",
        "- 변수 : 단\n",
        "- 반복문(1) : for문 사용\n",
        "- 반복문(2) : while문 사용"
      ],
      "metadata": {
        "id": "ShQKEqu0fMEI"
      }
    },
    {
      "cell_type": "code",
      "source": [
        "#for문 사용\n",
        "dan = int(input(\"구구단에서 몇단을 출력할까요: \"))    # 사용자로부터 구구단의 단을 입력받습니다.\n",
        "for i in range(1,9):    # 1부터 8까지의 숫자에 대해 반복합니다.\n",
        "  print(dan, \"x\", i, \"=\", dan * i)    # 구구단을 출력합니다."
      ],
      "metadata": {
        "colab": {
          "base_uri": "https://localhost:8080/"
        },
        "id": "35Hbhsw9fNuQ",
        "outputId": "aab99aec-104b-4c97-eb7c-33afac376952"
      },
      "execution_count": null,
      "outputs": [
        {
          "output_type": "stream",
          "name": "stdout",
          "text": [
            "구구단에서 몇단을 출력할까요: 5\n",
            "5 x 1 = 5\n",
            "5 x 2 = 10\n",
            "5 x 3 = 15\n",
            "5 x 4 = 20\n",
            "5 x 5 = 25\n",
            "5 x 6 = 30\n",
            "5 x 7 = 35\n",
            "5 x 8 = 40\n"
          ]
        }
      ]
    },
    {
      "cell_type": "markdown",
      "source": [
        "주어진 코드는 사용자로부터 구구단의 단을 입력받아 해당 단의 구구단을 출력하는 코드입니다.\n",
        "\n",
        "1. dan = int(input(\"구구단에서 몇단을 출력할까요: \"))를 사용하여 사용자로부터 구구단의 단을 입력받습니다. 입력된 값은 dan 변수에 정수로 저장됩니다.\n",
        "2. for i in range(1, 9):는 1부터 8까지의 숫자에 대해 반복합니다. range(1, 9)는 1부터 8까지의 범위를 나타냅니다. (range(1, 9)는 1부터 8까지의 숫자를 의미합니다. 9는 포함되지 않습니다.)\n",
        "3. 반복문 내부에서 print(dan, \"x\", i, \"=\", dan * i)을 사용하여 구구단을 출력합니다. dan에는 입력받은 단의 값이 저장되어 있고, i에는 반복문이 현재 실행되고 있는 숫자가 저장되어 있습니다. 따라서 dan * i는 구구단의 계산 결과를 나타냅니다.\n",
        "4. 이렇게 반복문이 실행되면 입력받은 단의 구구단이 출력됩니다.\n",
        "\n",
        "간단히 말하면, 주어진 코드는 사용자로부터 구구단의 단을 입력받아 해당 단의 구구단을 출력하는 것입니다."
      ],
      "metadata": {
        "id": "ARbl3xeCYJ_b"
      }
    },
    {
      "cell_type": "code",
      "source": [
        "#while문 사용\n",
        "dan = int(input(\"구구단에서 몇단을 출력할래?: \"))   # 사용자로부터 구구단의 단을 입력받습니다.\n",
        "i = 1   # 변수 i를 1로 초기화합니다.\n",
        "while i <=9:    # i가 9 이하인 동안 반복합니다.\n",
        "  print(dan, \"x\", i, \"=\", dan * 1)    # 구구단을 출력합니다.\n",
        "  i += 1    # i를 1씩 증가시킵니다."
      ],
      "metadata": {
        "colab": {
          "base_uri": "https://localhost:8080/"
        },
        "id": "_Wga3lUbgEn-",
        "outputId": "6c0c065b-763d-40f9-a396-309d7889fbf6"
      },
      "execution_count": null,
      "outputs": [
        {
          "output_type": "stream",
          "name": "stdout",
          "text": [
            "구구단에서 몇단을 출력할래?: 5\n",
            "5 x 1 = 5\n",
            "5 x 2 = 5\n",
            "5 x 3 = 5\n",
            "5 x 4 = 5\n",
            "5 x 5 = 5\n",
            "5 x 6 = 5\n",
            "5 x 7 = 5\n",
            "5 x 8 = 5\n",
            "5 x 9 = 5\n"
          ]
        }
      ]
    },
    {
      "cell_type": "markdown",
      "source": [
        "주어진 코드는 사용자로부터 구구단의 단을 입력받아 해당 단의 구구단을 출력하는 코드입니다.\n",
        "\n",
        "1. dan = int(input(\"구구단에서 몇단을 출력할래?: \"))를 사용하여 사용자로부터 구구단의 단을 입력받습니다. 입력된 값은 dan 변수에 정수로 저장됩니다.\n",
        "2. i = 1을 사용하여 변수 i를 1로 초기화합니다. i는 반복문에서 사용될 변수입니다.\n",
        "3. while i <= 9:는 i가 9 이하인 동안 아래의 코드 블록을 반복 실행합니다.\n",
        "4. 반복문 내부에서 print(dan, \"x\", i, \"=\", dan * i)을 사용하여 구구단을 출력합니다. dan에는 입력받은 단의 값이 저장되어 있고, i에는 반복문이 현재 실행되고 있는 숫자가 저장되어 있습니다. 따라서 dan * i는 구구단의 계산 결과를 나타냅니다.\n",
        "5. i += 1은 i를 1씩 증가시킵니다. 이는 반복문이 한 번 실행될 때마다 i의 값을 1씩 증가시킴으로써 구구단의 숫자를 변경해가는 과정을 진행합니다.\n",
        "6. 반복문이 종료되면 i가 9를 초과하므로 반복문을 빠져나옵니다.\n",
        "7. 이렇게 반복문이 실행되면 입력받은 단의 구구단이 출력됩니다.\n",
        "\n",
        "간단히 말하면, 주어진 코드는 사용자로부터 구구단의 단을 입력받아 해당 단의 구구단을 출력하는 것입니다."
      ],
      "metadata": {
        "id": "qPNn5OdMYUOr"
      }
    }
  ]
}