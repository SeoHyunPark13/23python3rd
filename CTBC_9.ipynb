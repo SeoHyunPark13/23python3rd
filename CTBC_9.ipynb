{
  "nbformat": 4,
  "nbformat_minor": 0,
  "metadata": {
    "colab": {
      "provenance": [],
      "authorship_tag": "ABX9TyPzVpRhpCPn4RN4TVzBFqHZ",
      "include_colab_link": true
    },
    "kernelspec": {
      "name": "python3",
      "display_name": "Python 3"
    },
    "language_info": {
      "name": "python"
    }
  },
  "cells": [
    {
      "cell_type": "markdown",
      "metadata": {
        "id": "view-in-github",
        "colab_type": "text"
      },
      "source": [
        "<a href=\"https://colab.research.google.com/github/SeoHyunPark13/23python3rd/blob/main/CTBC_9.ipynb\" target=\"_parent\"><img src=\"https://colab.research.google.com/assets/colab-badge.svg\" alt=\"Open In Colab\"/></a>"
      ]
    },
    {
      "cell_type": "markdown",
      "source": [
        "1. 두가지 이상의 선택, 다방향 선택구조 코딩\n",
        " - 배송료 처리 3가지로 코딩\n",
        " - 변수 : price\n",
        " - 조건 : 10만원 이상 배송비 0, 2만원 이상은 3천원, 2만원 이하면 5천원"
      ],
      "metadata": {
        "id": "AD1g40ZerpSb"
      }
    },
    {
      "cell_type": "code",
      "source": [
        "price = int(input(\"구입금액 입력: \"))             # 변수 price 사용자가 정수형 금액입력\n",
        "if price >= 100000:                                 # price의 값이 10만원보다 크거나 같으면\n",
        "   shipping_cost = 0                                # 선택1. 배송료(shipping_cost)는 0원\n",
        "else:                                             # 그게 아니면\n",
        " if price >= 20000:                                 # 선택2. price값이 2만원보다 크거나 같으면\n",
        "   shipping_cost = 3000                                   # 배송료(shipping_cost)는 3000원\n",
        " else:                                             # 그것도 아니면\n",
        "   shipping_cost = 5000                                 # 선택3. 배송료(shipping_cost)는 5000원\n",
        "print(f'배송료는 {shipping_cost}원 입니다. ')    # F-String문자 Format으로 최종 배송료출력"
      ],
      "metadata": {
        "colab": {
          "base_uri": "https://localhost:8080/"
        },
        "id": "6Q2P8HazsWrP",
        "outputId": "23bf7a68-9231-4c19-8d82-ab002f1e676e"
      },
      "execution_count": 11,
      "outputs": [
        {
          "output_type": "stream",
          "name": "stdout",
          "text": [
            "구입금액 입력: 50000\n",
            "배송료는 3000원 입니다. \n"
          ]
        }
      ]
    },
    {
      "cell_type": "markdown",
      "source": [
        "2. 반복구조를 이용한 \"환영합니다.\"를 5번 출력하는 코드작성\n",
        " - 변수 : welcome\n",
        " - 출력내용 : 환영합니다.를 세로로 5번, 10번, 30번"
      ],
      "metadata": {
        "id": "67u1VvTaymZi"
      }
    },
    {
      "cell_type": "code",
      "source": [
        "print(\"환영합니다.\")\n",
        "print(\"환영합니다.\")\n",
        "print(\"환영합니다.\")\n",
        "print(\"환영합니다.\")\n",
        "print(\"환영합니다.\")"
      ],
      "metadata": {
        "id": "1_2H-mPoy7mY"
      },
      "execution_count": null,
      "outputs": []
    },
    {
      "cell_type": "code",
      "source": [
        "print(\"환영합니다.\\n\" * 5)"
      ],
      "metadata": {
        "colab": {
          "base_uri": "https://localhost:8080/"
        },
        "id": "PR95eJcOzG-7",
        "outputId": "4b51c378-c243-4e1a-a6fd-34133e75d3d7"
      },
      "execution_count": 13,
      "outputs": [
        {
          "output_type": "stream",
          "name": "stdout",
          "text": [
            "환영합니다.\n",
            "환영합니다.\n",
            "환영합니다.\n",
            "환영합니다.\n",
            "환영합니다.\n",
            "\n"
          ]
        }
      ]
    },
    {
      "cell_type": "code",
      "source": [
        "count = 1\n",
        "while count <= 5:\n",
        " print(\"(\", count, \")\", \"환영합니다.\")\n",
        " count = count + 1"
      ],
      "metadata": {
        "colab": {
          "base_uri": "https://localhost:8080/"
        },
        "id": "ssWUEPMJznvf",
        "outputId": "f2bc1b87-7f24-40e0-ada4-b5f8490ddf55"
      },
      "execution_count": 20,
      "outputs": [
        {
          "output_type": "stream",
          "name": "stdout",
          "text": [
            "( 1 ) 환영합니다.\n",
            "( 2 ) 환영합니다.\n",
            "( 3 ) 환영합니다.\n",
            "( 4 ) 환영합니다.\n",
            "( 5 ) 환영합니다.\n"
          ]
        }
      ]
    },
    {
      "cell_type": "markdown",
      "source": [
        "3. 0부터 9까지 출력하는 코드 작성\n",
        " - 변수 : x\n",
        ""
      ],
      "metadata": {
        "id": "3qraG3Nf1jVr"
      }
    },
    {
      "cell_type": "code",
      "source": [
        "x = 0\n",
        "while x < 10:\n",
        "  # print(x)\n",
        "  print(x, end=' ')\n",
        "  x = x + 1"
      ],
      "metadata": {
        "colab": {
          "base_uri": "https://localhost:8080/"
        },
        "id": "KM4RAdIN1r4-",
        "outputId": "26991399-95f8-4d24-84d3-6bc0a669ec7e"
      },
      "execution_count": 28,
      "outputs": [
        {
          "output_type": "stream",
          "name": "stdout",
          "text": [
            "0 1 2 3 4 5 6 7 8 9 "
          ]
        }
      ]
    },
    {
      "cell_type": "markdown",
      "source": [
        "4. 1부터 10까지 합산하는 코드 작성"
      ],
      "metadata": {
        "id": "0jjy74rY3D44"
      }
    },
    {
      "cell_type": "code",
      "source": [
        "x = 1\n",
        "total = 0\n",
        "while x <= 10:\n",
        "  total += x\n",
        "  #total = total + 1\n",
        "  #x = x + 1\n",
        "  x += 1\n",
        "print(total)"
      ],
      "metadata": {
        "colab": {
          "base_uri": "https://localhost:8080/"
        },
        "id": "f3U1gj9l3JXK",
        "outputId": "77adb7cb-f81f-42b1-deff-e9c6641d5785"
      },
      "execution_count": 25,
      "outputs": [
        {
          "output_type": "stream",
          "name": "stdout",
          "text": [
            "55\n"
          ]
        }
      ]
    },
    {
      "cell_type": "markdown",
      "source": [
        "5. 3-6-9 게임 (3의 배수 판단 ): 3의 배수를 3으로 나누면 나머지가 0이 되므로 (i mod 3)의 값이 0이면 박수를 출력, 아니면 숫자 출력하는 코드"
      ],
      "metadata": {
        "id": "Xa_nJabR4bx1"
      }
    },
    {
      "cell_type": "code",
      "source": [
        "for num in range(1, 20):\n",
        " if num % 3 == 0:\n",
        "  print(\"박수\", end=' ')\n",
        " else:\n",
        "  print(num, end=' ')"
      ],
      "metadata": {
        "colab": {
          "base_uri": "https://localhost:8080/"
        },
        "id": "fqUtYhv64uEL",
        "outputId": "a03b7464-1f37-4ecc-e087-b928a9ffcb68"
      },
      "execution_count": 30,
      "outputs": [
        {
          "output_type": "stream",
          "name": "stdout",
          "text": [
            "1 2 박수 4 5 박수 7 8 박수 10 11 박수 13 14 박수 16 17 박수 19 "
          ]
        }
      ]
    },
    {
      "cell_type": "code",
      "source": [
        "num = 1\n",
        "while num <= 20:\n",
        "  if num % 3 == 0:\n",
        "   print(\"박수\", end=' ')\n",
        "  else:\n",
        "   print(num, end=' ')\n",
        "  num += 1"
      ],
      "metadata": {
        "colab": {
          "base_uri": "https://localhost:8080/"
        },
        "id": "MP17yxhb5T1C",
        "outputId": "f5407799-819f-410f-a0b1-b449a7cc383d"
      },
      "execution_count": 50,
      "outputs": [
        {
          "output_type": "stream",
          "name": "stdout",
          "text": [
            "1 2 박수 4 5 박수 7 8 박수 10 11 박수 13 14 박수 16 17 박수 19 20 "
          ]
        }
      ]
    }
  ]
}