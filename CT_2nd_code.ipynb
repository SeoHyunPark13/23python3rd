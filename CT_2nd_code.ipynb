{
  "nbformat": 4,
  "nbformat_minor": 0,
  "metadata": {
    "colab": {
      "provenance": [],
      "include_colab_link": true
    },
    "kernelspec": {
      "name": "python3",
      "display_name": "Python 3"
    },
    "language_info": {
      "name": "python"
    }
  },
  "cells": [
    {
      "cell_type": "markdown",
      "metadata": {
        "id": "view-in-github",
        "colab_type": "text"
      },
      "source": [
        "<a href=\"https://colab.research.google.com/github/SeoHyunPark13/23python3rd/blob/main/CT_2nd_code.ipynb\" target=\"_parent\"><img src=\"https://colab.research.google.com/assets/colab-badge.svg\" alt=\"Open In Colab\"/></a>"
      ]
    },
    {
      "cell_type": "markdown",
      "source": [
        "2. 사용자로부터 3개의 변수를 입력받아서 합을 구하고, 평균을 구하는 코드\n",
        " - 변수는 : n1, n2 ,n3, total, average\n"
      ],
      "metadata": {
        "id": "n8osXISWlSEn"
      }
    },
    {
      "cell_type": "code",
      "execution_count": null,
      "metadata": {
        "colab": {
          "base_uri": "https://localhost:8080/"
        },
        "id": "41Tb4-dek4WG",
        "outputId": "d5771348-8db9-4cbb-d5ed-dd64d2f676f6"
      },
      "outputs": [
        {
          "output_type": "stream",
          "name": "stdout",
          "text": [
            "n1의 값을 입력하시오.: 50\n",
            "n2의 값을 입력하시오.: 60\n",
            "n3의 값을 입력하시오.: 70\n",
            "합계는 : 180\n",
            "평균은 : 60.0\n"
          ]
        }
      ],
      "source": [
        " n1 = int(input(\"n1의 값을 입력하시오.: \"))   # 사용자로부터 n1의 값을 입력받음\n",
        " n2 = int(input(\"n2의 값을 입력하시오.: \"))   # 사용자로부터 n2의 값을 입력받음\n",
        " n3 = int(input(\"n3의 값을 입력하시오.: \"))   # 사용자로부터 n3의 값을 입력받음\n",
        " total = n1 + n2 + n3   # n1, n2, n3의 합을 계산하여 total 변수에 저장\n",
        " print('합계는 :', total)   # 합계를 출력\n",
        " average = total / 3    # 합계를 3으로 나눈 평균을 계산하여 average 변수에 저장\n",
        " print('평균은 :', average)   # 평균을 출력"
      ]
    },
    {
      "cell_type": "markdown",
      "source": [
        "1. n1 = int(input(\"n1의 값을 입력하시오.: \")) 코드는 사용자로부터 정수 값을 입력받아 n1 변수에 저장합니다. input() 함수를 사용하여 사용자 입력을 받고, int() 함수를 사용하여 입력값을 정수로 변환합니다.\n",
        "2. n2 = int(input(\"n2의 값을 입력하시오.: \")) 코드는 사용자로부터 정수 값을 입력받아 n2 변수에 저장합니다. 마찬가지로 input() 함수와 int() 함수를 사용하여 입력값을 정수로 변환합니다.\n",
        "3. n3 = int(input(\"n3의 값을 입력하시오.: \")) 코드는 사용자로부터 정수 값을 입력받아 n3 변수에 저장합니다. 동일한 방식으로 입력을 받고 정수로 변환합니다.\n",
        "4. total = n1 + n2 + n3 코드는 n1, n2, n3의 값을 더하여 합을 계산하고, 그 결과를 total 변수에 저장합니다.\n",
        "5. print('합계는 :', total) 코드는 계산된 합인 total을 출력합니다. 출력 메시지와 함께 합계 값을 출력합니다.\n",
        "6. average = total / 3 코드는 total 값을 3으로 나누어 평균을 계산하고, 그 결과를 average 변수에 저장합니다.\n",
        "7. print('평균은 :', average) 코드는 계산된 평균인 average를 출력합니다. 출력 메시지와 함께 평균 값을 출력합니다.\n",
        "\n",
        "따라서, 주어진 코드는 사용자로부터 세 개의 정수 값을 입력받아 합과 평균을 계산하여 출력하는 코드입니다."
      ],
      "metadata": {
        "id": "7X03N89Ymaa5"
      }
    }
  ]
}