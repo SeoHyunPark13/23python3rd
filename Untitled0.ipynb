{
  "nbformat": 4,
  "nbformat_minor": 0,
  "metadata": {
    "colab": {
      "provenance": [],
      "toc_visible": true,
      "authorship_tag": "ABX9TyNnKOid1bnQWpKtghwpY5o7",
      "include_colab_link": true
    },
    "kernelspec": {
      "name": "python3",
      "display_name": "Python 3"
    },
    "language_info": {
      "name": "python"
    }
  },
  "cells": [
    {
      "cell_type": "markdown",
      "metadata": {
        "id": "view-in-github",
        "colab_type": "text"
      },
      "source": [
        "<a href=\"https://colab.research.google.com/github/SeoHyunPark13/23python3rd/blob/main/Untitled0.ipynb\" target=\"_parent\"><img src=\"https://colab.research.google.com/assets/colab-badge.svg\" alt=\"Open In Colab\"/></a>"
      ]
    },
    {
      "cell_type": "markdown",
      "source": [
        "1. 사용자로부터 2개의 정수를 받아 합계를 출력하시오.\n",
        " - 정수 x\n",
        " - 정수 y\n"
      ],
      "metadata": {
        "id": "NjtJ-QK670QE"
      }
    },
    {
      "cell_type": "code",
      "execution_count": 8,
      "metadata": {
        "id": "JWskJWMw7yp0",
        "colab": {
          "base_uri": "https://localhost:8080/"
        },
        "outputId": "46d7c691-a52c-4178-d7ee-2eeb3d269276"
      },
      "outputs": [
        {
          "output_type": "stream",
          "name": "stdout",
          "text": [
            "정수 2개를 입력하시오.: \n",
            "x의 값을 입력하시오.: 5\n",
            "y의 값을 입력하시오.: 6\n",
            "11\n",
            "5 + 6 의 값은 11이다. \n"
          ]
        }
      ],
      "source": [
        "print(\"정수 2개를 입력하시오.: \")\n",
        "x = int(input(\"x의 값을 입력하시오.: \"))\n",
        "y = int(input(\"y의 값을 입력하시오.: \"))\n",
        "sum = x + y\n",
        "print(sum)\n",
        "print(f'{x} + {y} 의 값은 {sum}이다. ')"
      ]
    },
    {
      "cell_type": "markdown",
      "source": [
        "2. 부가세를 계산하시오.\n",
        " - 상품의 가격 (price)\n",
        " - 부가세 (vat)\n",
        ""
      ],
      "metadata": {
        "id": "akDmU3SBAygj"
      }
    },
    {
      "cell_type": "code",
      "source": [
        "print(\"상품의 가격을 입력하시오.: \")\n",
        "price = int(input(\"상품의 가격: \"))\n",
        "vat = price * 0.1\n",
        "print(vat)\n",
        "print(f'상품의 가격은 {price}이며, 부가세는 {vat}이다. ')"
      ],
      "metadata": {
        "colab": {
          "base_uri": "https://localhost:8080/"
        },
        "id": "5ehbEMLgAyAS",
        "outputId": "8ba4ff0c-7fc8-498f-e419-3083b880b228"
      },
      "execution_count": 5,
      "outputs": [
        {
          "output_type": "stream",
          "name": "stdout",
          "text": [
            "상품의 가격을 입력하시오.: \n",
            "상품의 가격: 5000\n",
            "500.0\n",
            "상품의 가격은 5000이며, 부가세는 500.0이다. \n"
          ]
        }
      ]
    }
  ]
}