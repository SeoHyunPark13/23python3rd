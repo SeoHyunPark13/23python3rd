{
  "nbformat": 4,
  "nbformat_minor": 0,
  "metadata": {
    "colab": {
      "provenance": [],
      "authorship_tag": "ABX9TyOEKTbXqwWebtRI4iYcPO7L",
      "include_colab_link": true
    },
    "kernelspec": {
      "name": "python3",
      "display_name": "Python 3"
    },
    "language_info": {
      "name": "python"
    }
  },
  "cells": [
    {
      "cell_type": "markdown",
      "metadata": {
        "id": "view-in-github",
        "colab_type": "text"
      },
      "source": [
        "<a href=\"https://colab.research.google.com/github/SeoHyunPark13/23python3rd/blob/main/Untitled0.ipynb\" target=\"_parent\"><img src=\"https://colab.research.google.com/assets/colab-badge.svg\" alt=\"Open In Colab\"/></a>"
      ]
    },
    {
      "cell_type": "markdown",
      "source": [
        "1. 사용자로부터 2개의 정수를 받아 합계를 출력하시오.\n",
        " - 정수 x\n",
        " - 정수 y\n"
      ],
      "metadata": {
        "id": "NjtJ-QK670QE"
      }
    },
    {
      "cell_type": "code",
      "execution_count": null,
      "metadata": {
        "id": "JWskJWMw7yp0",
        "colab": {
          "base_uri": "https://localhost:8080/"
        },
        "outputId": "46d7c691-a52c-4178-d7ee-2eeb3d269276"
      },
      "outputs": [
        {
          "output_type": "stream",
          "name": "stdout",
          "text": [
            "정수 2개를 입력하시오.: \n",
            "x의 값을 입력하시오.: 5\n",
            "y의 값을 입력하시오.: 6\n",
            "11\n",
            "5 + 6 의 값은 11이다. \n"
          ]
        }
      ],
      "source": [
        "print(\"정수 2개를 입력하시오.: \")\n",
        "x = int(input(\"x의 값을 입력하시오.: \"))    # 사용자로부터 x의 값을 입력받음\n",
        "y = int(input(\"y의 값을 입력하시오.: \"))    # 사용자로부터 y의 값을 입력받음\n",
        "sum = x + y   # x와 y의 합을 계산하여 sum 변수에 저장\n",
        "print(sum)    # 합계를 출력\n",
        "print(f'{x} + {y} 의 값은 {sum}이다. ')   # f-string을 사용하여 입력받은 정수와 합계를 출력"
      ]
    },
    {
      "cell_type": "markdown",
      "source": [
        "1. \"정수 2개를 입력하시오.\"라는 안내 메시지를 출력합니다.\n",
        "2. 사용자로부터 첫 번째 정수인 x의 값을 입력받습니다.\n",
        "3. 사용자로부터 두 번째 정수인 y의 값을 입력받습니다.\n",
        "4. 입력받은 x와 y의 값을 더하여 합을 계산합니다.\n",
        "5. 계산된 합을 출력합니다.\n",
        "6. 입력받은 x, y의 값과 합을 출력합니다.\n",
        "\n",
        "주어진 코드는 사용자로부터 두 개의 정수를 입력받아 합을 계산하고, 입력받은 값과 합을 출력하는 코드입니다."
      ],
      "metadata": {
        "id": "5Jmczi40S5pn"
      }
    },
    {
      "cell_type": "markdown",
      "source": [
        "2. 부가세를 계산하시오.\n",
        " - 상품의 가격 (price)\n",
        " - 부가세 (vat)\n"
      ],
      "metadata": {
        "id": "akDmU3SBAygj"
      }
    },
    {
      "cell_type": "code",
      "source": [
        "print(\"상품의 가격을 입력하시오.: \")\n",
        "price = int(input(\"상품의 가격: \"))   # 사용자로부터 상품의 가격을 입력받음\n",
        "vat = price * 0.1   # 상품 가격에 10%에 해당하는 부가세를 계산하여 vat 변수에 저장\n",
        "print(vat)    # 부가세를 출력\n",
        "print(f'상품의 가격은 {price}이며, 부가세는 {vat}이다. ')   # f-string을 사용하여 입력받은 가격과 부가세를 출력"
      ],
      "metadata": {
        "colab": {
          "base_uri": "https://localhost:8080/"
        },
        "id": "5ehbEMLgAyAS",
        "outputId": "8ba4ff0c-7fc8-498f-e419-3083b880b228"
      },
      "execution_count": null,
      "outputs": [
        {
          "output_type": "stream",
          "name": "stdout",
          "text": [
            "상품의 가격을 입력하시오.: \n",
            "상품의 가격: 5000\n",
            "500.0\n",
            "상품의 가격은 5000이며, 부가세는 500.0이다. \n"
          ]
        }
      ]
    },
    {
      "cell_type": "markdown",
      "source": [
        "1. \"상품의 가격을 입력하시오.: \"라는 안내 메시지를 출력합니다.\n",
        "2. price = int(input(\"상품의 가격: \")) 코드는 사용자로부터 상품의 가격을 입력받아 정수로 변환하여 price 변수에 저장합니다. 사용자 입력은 input() 함수를 사용하여 받고, int() 함수를 사용하여 입력값을 정수로 변환합니다.\n",
        "3. vat = price * 0.1 코드는 입력받은 가격인 price에 10%에 해당하는 부가세를 계산하여 vat 변수에 저장합니다. 가격에 0.1을 곱하여 계산합니다.\n",
        "4. print(vat) 코드는 계산된 부가세인 vat 값을 출력합니다.\n",
        "5. print(f'상품의 가격은 {price}이며, 부가세는 {vat}이다. ') 코드는 f-string을 사용하여 입력받은 가격인 price와 부가세인 vat 값을 출력합니다. 중괄호 {} 안에 변수를 넣어서 문자열에 변수 값을 포매팅합니다.\n",
        "\n",
        "따라서, 주어진 코드는 사용자로부터 상품의 가격을 입력받아 부가세를 계산하고, 부가세 값을 출력하며, 입력받은 가격과 부가세를 함께 출력하는 코드입니다."
      ],
      "metadata": {
        "id": "HpuMcZkATjqK"
      }
    }
  ]
}