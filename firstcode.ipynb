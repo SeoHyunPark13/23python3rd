{
  "nbformat": 4,
  "nbformat_minor": 0,
  "metadata": {
    "colab": {
      "provenance": [],
      "authorship_tag": "ABX9TyNxV/lKPGN+SpXnk/2pvbjL",
      "include_colab_link": true
    },
    "kernelspec": {
      "name": "python3",
      "display_name": "Python 3"
    },
    "language_info": {
      "name": "python"
    }
  },
  "cells": [
    {
      "cell_type": "markdown",
      "metadata": {
        "id": "view-in-github",
        "colab_type": "text"
      },
      "source": [
        "<a href=\"https://colab.research.google.com/github/SeoHyunPark13/23python3rd/blob/main/firstcode.ipynb\" target=\"_parent\"><img src=\"https://colab.research.google.com/assets/colab-badge.svg\" alt=\"Open In Colab\"/></a>"
      ]
    },
    {
      "cell_type": "markdown",
      "source": [
        "1. 나의 생에 첫번째 코드"
      ],
      "metadata": {
        "id": "PT2XIzF1eWJF"
      }
    },
    {
      "cell_type": "code",
      "execution_count": null,
      "metadata": {
        "colab": {
          "base_uri": "https://localhost:8080/"
        },
        "id": "0gUcEjCNeLus",
        "outputId": "bb6ef387-ce55-48ca-d7b6-071b44d19b15"
      },
      "outputs": [
        {
          "output_type": "stream",
          "name": "stdout",
          "text": [
            "hello world!\n"
          ]
        }
      ],
      "source": [
        "print(\"hello world!\")   # \"hello world!\"를 출력하는 코드입니다."
      ]
    },
    {
      "cell_type": "markdown",
      "source": [
        "2. 두번째 코딩"
      ],
      "metadata": {
        "id": "XqROPNPvetBl"
      }
    },
    {
      "cell_type": "code",
      "source": [
        "print(5+5, 6-2, 4*5, 6/2)   # 덧셈, 뺄셈, 곱셈, 나눗셈 연산을 수행하여 결과를 출력합니다."
      ],
      "metadata": {
        "colab": {
          "base_uri": "https://localhost:8080/"
        },
        "id": "brAqhnpFeyRk",
        "outputId": "6b97f966-12ae-4059-f5f1-bff69b79a883"
      },
      "execution_count": null,
      "outputs": [
        {
          "output_type": "stream",
          "name": "stdout",
          "text": [
            "10 4 20 3.0\n"
          ]
        }
      ]
    }
  ]
}