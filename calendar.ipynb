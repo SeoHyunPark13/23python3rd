{
  "nbformat": 4,
  "nbformat_minor": 0,
  "metadata": {
    "colab": {
      "provenance": [],
      "include_colab_link": true
    },
    "kernelspec": {
      "name": "python3",
      "display_name": "Python 3"
    },
    "language_info": {
      "name": "python"
    }
  },
  "cells": [
    {
      "cell_type": "markdown",
      "metadata": {
        "id": "view-in-github",
        "colab_type": "text"
      },
      "source": [
        "<a href=\"https://colab.research.google.com/github/SeoHyunPark13/23python3rd/blob/main/calendar.ipynb\" target=\"_parent\"><img src=\"https://colab.research.google.com/assets/colab-badge.svg\" alt=\"Open In Colab\"/></a>"
      ]
    },
    {
      "cell_type": "code",
      "execution_count": null,
      "metadata": {
        "colab": {
          "base_uri": "https://localhost:8080/"
        },
        "id": "qOtuZaA3YyZz",
        "outputId": "533afe5c-d9ac-47f1-a7d1-35b8fca80240"
      },
      "outputs": [
        {
          "output_type": "stream",
          "name": "stdout",
          "text": [
            "    October 2023\n",
            "Mo Tu We Th Fr Sa Su\n",
            "                   1\n",
            " 2  3  4  5  6  7  8\n",
            " 9 10 11 12 13 14 15\n",
            "16 17 18 19 20 21 22\n",
            "23 24 25 26 27 28 29\n",
            "30 31\n",
            "\n"
          ]
        }
      ],
      "source": [
        "import calendar\n",
        "yy = 2023     # Year\n",
        "mm = 10       # month\n",
        "# calendar.month 함수를 사용하여 해당 연도와 월에 해당하는 달력을 출력합니다.\n",
        "# 출력 결과는 문자열 형태로 반환됩니다.\n",
        "# display the calendar\n",
        "print(calendar.month(yy,mm))\n"
      ]
    },
    {
      "cell_type": "markdown",
      "source": [
        "이 코드에서 calendar.month(yy, mm)은 calendar 모듈의 month 함수를 호출하여 해당 연도와 월에 해당하는 달력을 문자열 형태로 반환합니다. 이후 print 함수를 사용하여 달력을 출력합니다.\n",
        "\n",
        "예를 들어, 주어진 코드에서 yy 변수에 2023이 저장되어 있고, mm 변수에 10이 저장되어 있으므로, 2023년 10월에 해당하는 달력을 출력합니다."
      ],
      "metadata": {
        "id": "1xNm7lYISfsQ"
      }
    },
    {
      "cell_type": "markdown",
      "source": [
        "2023년 10월 19일 To Do List\n",
        " - 09:10~11:00 컴퓨팅적 사고와 기초 코딩\n",
        " - 11:10~12:00 아동건강교육\n",
        " - 12:00~13:00 점심식사\n",
        " - 13:00~14:00 휴식\n",
        " - 14:00~20:00 시험공부\n",
        " - 20:10~21:00 저녁식사"
      ],
      "metadata": {
        "id": "SuD1-NjeeoZD"
      }
    },
    {
      "cell_type": "code",
      "source": [
        "print(\"2023년 10월 19일 To do list\")\n",
        "print(\"9:10~11:00 컴퓨팅적 사고와 기초 코딩\")\n",
        "print(\"11:10~12:00 아동건강교육\")\n",
        "print(\"12:10~13:00 점심 식사\")\n",
        "print(\"13:00~14:00 휴식\")\n",
        "print(\"14:00~20:00 시험 공부\")\n",
        "print(\"20:10~21:00 저녁식사\")"
      ],
      "metadata": {
        "colab": {
          "base_uri": "https://localhost:8080/"
        },
        "id": "jkAJ_ReKcy1T",
        "outputId": "17c29ce4-9540-48f4-e195-9a5ce08e6adc"
      },
      "execution_count": null,
      "outputs": [
        {
          "output_type": "stream",
          "name": "stdout",
          "text": [
            "2023년 10월 19일 To do list\n",
            "9:10~11:00 컴퓨팅적 사고와 기초 코딩\n",
            "11:10~12:00 아동건강교육\n",
            "12:10~13:00 점심 식사\n",
            "13:00~14:00 휴식\n",
            "14:00~20:00 시험 공부\n",
            "20:10~21:00 저녁식사\n"
          ]
        }
      ]
    }
  ]
}