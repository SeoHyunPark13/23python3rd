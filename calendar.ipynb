{
  "nbformat": 4,
  "nbformat_minor": 0,
  "metadata": {
    "colab": {
      "provenance": [],
      "authorship_tag": "ABX9TyOCMh3OCzUPT3EagsyS9U3x",
      "include_colab_link": true
    },
    "kernelspec": {
      "name": "python3",
      "display_name": "Python 3"
    },
    "language_info": {
      "name": "python"
    }
  },
  "cells": [
    {
      "cell_type": "markdown",
      "metadata": {
        "id": "view-in-github",
        "colab_type": "text"
      },
      "source": [
        "<a href=\"https://colab.research.google.com/github/SeoHyunPark13/23python3rd/blob/main/calendar.ipynb\" target=\"_parent\"><img src=\"https://colab.research.google.com/assets/colab-badge.svg\" alt=\"Open In Colab\"/></a>"
      ]
    },
    {
      "cell_type": "code",
      "execution_count": 1,
      "metadata": {
        "colab": {
          "base_uri": "https://localhost:8080/"
        },
        "id": "qOtuZaA3YyZz",
        "outputId": "533afe5c-d9ac-47f1-a7d1-35b8fca80240"
      },
      "outputs": [
        {
          "output_type": "stream",
          "name": "stdout",
          "text": [
            "    October 2023\n",
            "Mo Tu We Th Fr Sa Su\n",
            "                   1\n",
            " 2  3  4  5  6  7  8\n",
            " 9 10 11 12 13 14 15\n",
            "16 17 18 19 20 21 22\n",
            "23 24 25 26 27 28 29\n",
            "30 31\n",
            "\n"
          ]
        }
      ],
      "source": [
        "import calendar\n",
        "yy = 2023     # Year\n",
        "mm = 10       # month\n",
        "# display the calendar\n",
        "print(calendar.month(yy,mm))\n"
      ]
    },
    {
      "cell_type": "code",
      "source": [
        "print(\"2023년 10월 19일 To do list\")\n",
        "print(\"9:10~11:00 컴퓨팅적 사고와 기초 코딩\")\n",
        "print(\"11:10~12:00 아동건강교육\")\n",
        "print(\"12:10~13:00 점심 식사\")\n",
        "print(\"13:00~14:00 휴식\")\n",
        "print(\"14:00~20:00 시험 공부\")\n",
        "print(\"20:10~21:00 저녁식사\")"
      ],
      "metadata": {
        "colab": {
          "base_uri": "https://localhost:8080/"
        },
        "id": "jkAJ_ReKcy1T",
        "outputId": "17c29ce4-9540-48f4-e195-9a5ce08e6adc"
      },
      "execution_count": 11,
      "outputs": [
        {
          "output_type": "stream",
          "name": "stdout",
          "text": [
            "2023년 10월 19일 To do list\n",
            "9:10~11:00 컴퓨팅적 사고와 기초 코딩\n",
            "11:10~12:00 아동건강교육\n",
            "12:10~13:00 점심 식사\n",
            "13:00~14:00 휴식\n",
            "14:00~20:00 시험 공부\n",
            "20:10~21:00 저녁식사\n"
          ]
        }
      ]
    }
  ]
}