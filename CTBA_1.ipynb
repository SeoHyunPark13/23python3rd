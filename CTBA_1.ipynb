{
  "nbformat": 4,
  "nbformat_minor": 0,
  "metadata": {
    "colab": {
      "provenance": [],
      "authorship_tag": "ABX9TyPZwPIV87y22TNYHz+xCg/a",
      "include_colab_link": true
    },
    "kernelspec": {
      "name": "python3",
      "display_name": "Python 3"
    },
    "language_info": {
      "name": "python"
    }
  },
  "cells": [
    {
      "cell_type": "markdown",
      "metadata": {
        "id": "view-in-github",
        "colab_type": "text"
      },
      "source": [
        "<a href=\"https://colab.research.google.com/github/SeoHyunPark13/23python3rd/blob/main/CTBA_1.ipynb\" target=\"_parent\"><img src=\"https://colab.research.google.com/assets/colab-badge.svg\" alt=\"Open In Colab\"/></a>"
      ]
    },
    {
      "cell_type": "markdown",
      "source": [
        "1. 쇼핑몰 배송료를 계산하는 코드 작성\n",
        "- 사용하는 변수 : price, shipping_cost"
      ],
      "metadata": {
        "id": "9Tz0wGnsfUls"
      }
    },
    {
      "cell_type": "code",
      "execution_count": 2,
      "metadata": {
        "colab": {
          "base_uri": "https://localhost:8080/"
        },
        "id": "LoHA0-OHfR5z",
        "outputId": "55c72685-eb54-4d9c-d434-dfa6d6b9daf1"
      },
      "outputs": [
        {
          "output_type": "stream",
          "name": "stdout",
          "text": [
            "상품의 가격을 입력하시오.\n",
            "구입 금액을 입력: 19999\n",
            "구입 금액이 2만원 이하입니다.\n",
            "회원님의 배송비는 30000\n"
          ]
        }
      ],
      "source": [
        "print(\"상품의 가격을 입력하시오.\")\n",
        "price = int(input(\"구입 금액을 입력: \"))\n",
        "if price > 20000:\n",
        "  shipping_cost = 0\n",
        "  print(f'구입금액이 2만원 이상입니다.')\n",
        "else:\n",
        "  shipping_cost = 30000\n",
        "  print(f'구입 금액이 2만원 이하입니다.')\n",
        "print(f'회원님의 배송비는 {shipping_cost}')"
      ]
    },
    {
      "cell_type": "markdown",
      "source": [
        "2. 1학생으로부터 성적을 입력받아 합격 유무를 출력하는 코드\n",
        "- 사용 변수 : grade"
      ],
      "metadata": {
        "id": "71dZA8JQgepF"
      }
    },
    {
      "cell_type": "code",
      "source": [
        "print(\"성적을 입력하시오.\")\n",
        "grade = int(input(\"성적 입력\"))\n",
        "if grade >= 70:\n",
        "  print(f'70점 이상이므로 합격입니다.')\n",
        "  print(f'축하합니다. 합격입니다.')\n",
        "else:\n",
        "  print(f'70점 이하이므로 불합격입니다.')\n",
        "  print(\"아쉽군요. 다시 한 번 도전하세요.\")"
      ],
      "metadata": {
        "colab": {
          "base_uri": "https://localhost:8080/"
        },
        "id": "TTTu8SIQge4T",
        "outputId": "ed978e6c-f97d-4ca5-f32b-3f77c845abd3"
      },
      "execution_count": 3,
      "outputs": [
        {
          "output_type": "stream",
          "name": "stdout",
          "text": [
            "성적을 입력하시오.\n",
            "성적 입력80\n",
            "70점 이상이므로 합격입니다.\n",
            "축하합니다. 합격입니다.\n"
          ]
        }
      ]
    },
    {
      "cell_type": "markdown",
      "source": [
        "3. 근무시간에 따라 초과근무와 정상근무를 판별하는 코드\n",
        "- 변수는 work_hour\n",
        "- 연산코드는 work_hour > 72"
      ],
      "metadata": {
        "id": "3k6p7ObxhR6m"
      }
    },
    {
      "cell_type": "code",
      "source": [
        "print(\"근무시간을 입력하시오.\")\n",
        "work_hour = int(input(\"근무시간 입력: \"))\n",
        "if work_hour > 72:\n",
        "  print(\"☆\"*9)\n",
        "  print(f'♠초과근무입니다.♠')\n",
        "  print(\"☆\"*9)\n",
        "else:\n",
        "  print(\"☆\"*9)\n",
        "  print(f'♠정상근무입니다.♠')\n",
        "  print(\"☆\"*9)"
      ],
      "metadata": {
        "colab": {
          "base_uri": "https://localhost:8080/"
        },
        "id": "at9tNQmxhSIZ",
        "outputId": "b2e5f934-e3e9-47e4-9fb8-6fde48dd2cc5"
      },
      "execution_count": 4,
      "outputs": [
        {
          "output_type": "stream",
          "name": "stdout",
          "text": [
            "근무시간을 입력하시오.\n",
            "근무시간 입력: 70\n",
            "☆☆☆☆☆☆☆☆☆\n",
            "♠정상근무입니다.♠\n",
            "☆☆☆☆☆☆☆☆☆\n"
          ]
        }
      ]
    },
    {
      "cell_type": "markdown",
      "source": [
        "4. 짝수와 홀수를 판별하는 코드\n",
        "- 사용변수 : num\n",
        "- 수식 : (x % 2) != 0:"
      ],
      "metadata": {
        "id": "stsLzXYWhcVd"
      }
    },
    {
      "cell_type": "code",
      "source": [
        "print(\"정수를 입력하시오.\")\n",
        "_num_ = int(input(\"정수 입력:\"))\n",
        "if(_num_ % 2) != 0:\n",
        "  print(f'입력하신 {_num_}은 홀수입니다.')\n",
        "else:\n",
        "  print(f'입력하신 {_num_}은 짝수입니다.')"
      ],
      "metadata": {
        "colab": {
          "base_uri": "https://localhost:8080/"
        },
        "id": "2RrQgjf7i554",
        "outputId": "9235c0b7-70d0-400d-eacd-23b20e81bd1b"
      },
      "execution_count": 8,
      "outputs": [
        {
          "output_type": "stream",
          "name": "stdout",
          "text": [
            "정수를 입력하시오.\n",
            "정수 입력:8\n",
            "입력하신 8은 짝수입니다.\n"
          ]
        }
      ]
    },
    {
      "cell_type": "markdown",
      "source": [
        "5. 사용자의 이름과 나이를 물어보고, 답변하는 코드\n",
        "- 사용 변수: name, age\n",
        "- 출력할 내용 :\n",
        "- 성명\n",
        "- 나이 : 20\n",
        "- (1) 20이하 프로그래밍을 배우는 최적의 나이입니다.\n",
        "- (2) 20이상 아직도 늦지 않았습니다."
      ],
      "metadata": {
        "id": "m114vqxuhcaC"
      }
    },
    {
      "cell_type": "code",
      "source": [
        "print(\"이름과 나이를 넣으시오.\")\n",
        "name = input(\"이름 입력:\")\n",
        "age = int(input(\"나이 입력:\"))\n",
        "if age < 20:\n",
        "  print(f'프로그래밍을 배우는 최적의 나이입니다.')\n",
        "else:\n",
        "  print(f'아직도 늦지 않았습니다.')\n"
      ],
      "metadata": {
        "colab": {
          "base_uri": "https://localhost:8080/"
        },
        "id": "Vl-dXX91j9zZ",
        "outputId": "dc7e5ff0-b944-44d1-a9e6-702e2eadc871"
      },
      "execution_count": 11,
      "outputs": [
        {
          "output_type": "stream",
          "name": "stdout",
          "text": [
            "이름과 나이를 넣으시오.\n",
            "이름 입력:박서현\n",
            "나이 입력:20\n",
            "아직도 늦지 않았습니다.\n"
          ]
        }
      ]
    }
  ]
}